{
 "cells": [
  {
   "cell_type": "code",
   "execution_count": 27,
   "metadata": {},
   "outputs": [],
   "source": [
    "import pydicom\n",
    "import sys\n",
    "from os.path import join as opj\n",
    "from os import rename\n",
    "from os import path\n",
    "from pathlib import Path\n",
    "from re import sub\n",
    "from glob import glob\n",
    "import simplejson as json\n",
    "\n",
    "import mrpyconvert\n",
    "\n",
    "import pathlib\n",
    "\n",
    "repo = pathlib.Path('/projects/lcni/dcm/kuhl_lab/Kuhl/')\n",
    "glacier_path = repo / 'glacier'\n",
    "output_path = '/projects/kuhl_lab/wanjiag/GLACIER'\n",
    "processed_files = glob(opj(output_path, 'sub-GLACIER*'))\n",
    "processed_ids = [x.split('/')[5].split('-')[1] for x in processed_files]"
   ]
  },
  {
   "cell_type": "code",
   "execution_count": 3,
   "metadata": {},
   "outputs": [],
   "source": [
    "to_process_sub_path = []\n",
    "to_process_sub_id = []"
   ]
  },
  {
   "cell_type": "code",
   "execution_count": 4,
   "metadata": {},
   "outputs": [],
   "source": [
    "all_bids_data = glob(opj(glacier_path, 'GLACIER*'))"
   ]
  },
  {
   "cell_type": "code",
   "execution_count": 6,
   "metadata": {},
   "outputs": [],
   "source": [
    "for d in all_bids_data:\n",
    "    subid = d.split('/')[7].split('_')[0]\n",
    "    if subid not in processed_ids:\n",
    "        # Special case:\n",
    "        if subid == 'GLACIER00':\n",
    "            continue\n",
    "        elif subid == 'GLACIER01':\n",
    "            to_process_sub_id.append(subid)\n",
    "            to_process_sub_path.append('/home/wanjiag/projects/GLACIER/derivatives/special_dcm/GLACIER01_20240130_094638')\n",
    "        else:\n",
    "            to_process_sub_path.append(d)\n",
    "            to_process_sub_id.append(subid)"
   ]
  },
  {
   "cell_type": "code",
   "execution_count": null,
   "metadata": {},
   "outputs": [],
   "source": [
    "converter = mrpyconvert.Converter()\n",
    "converter.set_bids_path(output_path)"
   ]
  },
  {
   "cell_type": "code",
   "execution_count": 8,
   "metadata": {},
   "outputs": [],
   "source": [
    "# Edit fmap metadata\n",
    "def write_metadata(json_file, intended_list):\n",
    "    \"\"\"Write IntendedFor field to json metadata.\n",
    "\n",
    "    Parameters\n",
    "    ----------\n",
    "    json_file : os.PathLike\n",
    "        Metadata json file.\n",
    "    intended_list : list[str]\n",
    "        Intended file list.\n",
    "\n",
    "    \"\"\"\n",
    "    # Add field\n",
    "    json_file.chmod(0o644)\n",
    "    with json_file.open(\"r\") as f:\n",
    "        data = json.load(f)\n",
    "    with json_file.open(\"w\") as f:\n",
    "        data[\"IntendedFor\"] = intended_list\n",
    "        json.dump(data, f, indent=2)\n",
    "    json_file.chmod(0o444)"
   ]
  },
  {
   "cell_type": "code",
   "execution_count": 28,
   "metadata": {},
   "outputs": [],
   "source": [
    "for sub_p in to_process_sub_path:\n",
    "    print(f\"Processing sub-{sub_p}...\")\n",
    "    converter.inspect(sub_p)\n",
    "    converter.add_dicoms(sub_p)\n",
    "    \n",
    "    #converter.add_entry('mprage', search='mprage_p2', datatype='anat', suffix='T1w')\n",
    "    #converter.add_entry('t2', search='t2_tse', datatype='anat', suffix='T2w')\n",
    "    #converter.add_entry('se_epi_ap', search='se_epi_ap', datatype='fmap', suffix='epi', chain = {'dir':'AP'},json_fields={'B0FieldIdentifier': 'fieldmap'})\n",
    "    #converter.add_entry('se_epi_pa', search='se_epi_pa', datatype='fmap', suffix='epi', chain = {'dir':'PA'},json_fields={'B0FieldIdentifier': 'fieldmap'})\n",
    "    \n",
    "    converter.add_entry('task1', search='EPI_1', datatype='func', suffix='bold', chain={'task':'glacier', 'run':1},json_fields={'TaskName': 'glacier', 'B0FieldSource': 'fieldmap'})\n",
    "    converter.add_entry('task2', search='EPI_2', datatype='func', suffix='bold', chain={'task':'glacier', 'run':2},json_fields={'TaskName': 'glacier', 'B0FieldSource': 'fieldmap'})\n",
    "    converter.add_entry('task3', search='EPI_3', datatype='func', suffix='bold', chain={'task':'glacier', 'run':3},json_fields={'TaskName': 'glacier', 'B0FieldSource': 'fieldmap'})\n",
    "    converter.add_entry('task4', search='EPI_4', datatype='func', suffix='bold', chain={'task':'glacier', 'run':4},json_fields={'TaskName': 'glacier', 'B0FieldSource': 'fieldmap'})\n",
    "    converter.add_entry('task5', search='EPI_5', datatype='func', suffix='bold', chain={'task':'glacier', 'run':5},json_fields={'TaskName': 'glacier', 'B0FieldSource': 'fieldmap'})\n",
    "    converter.add_entry('task6', search='EPI_6', datatype='func', suffix='bold', chain={'task':'glacier', 'run':6},json_fields={'TaskName': 'glacier', 'B0FieldSource': 'fieldmap'})\n",
    "    converter.add_entry('task7', search='EPI_7', datatype='func', suffix='bold', chain={'task':'glacier', 'run':7},json_fields={'TaskName': 'glacier', 'B0FieldSource': 'fieldmap'})\n",
    "    converter.add_entry('task8', search='EPI_8', datatype='func', suffix='bold', chain={'task':'glacier', 'run':8},json_fields={'TaskName': 'glacier', 'B0FieldSource': 'fieldmap'})\n",
    "    \n",
    "    converter.add_entry('sbref', search='EPI_.*_SBRef', datatype='func', suffix='sbref', autorun=True, chain={'task':'glacier'},json_fields={'TaskName': 'glacier', 'B0FieldSource': 'fieldmap'})\n",
    "\n",
    "    converter.convert()\n",
    "    "
   ]
  },
  {
   "cell_type": "code",
   "execution_count": 11,
   "metadata": {},
   "outputs": [],
   "source": [
    "to_process_sub_id = ['GLACIER06']"
   ]
  },
  {
   "cell_type": "code",
   "execution_count": 33,
   "metadata": {},
   "outputs": [
    {
     "name": "stdout",
     "output_type": "stream",
     "text": [
      "GLACIER06\n",
      "['/projects/kuhl_lab/wanjiag/GLACIER/sub-GLACIER06/fmap/sub-GLACIER06_dir-AP_epi.json', '/projects/kuhl_lab/wanjiag/GLACIER/sub-GLACIER06/fmap/sub-GLACIER06_dir-PA_epi.json']\n",
      "Completed sub-GLACIER06 ...\n"
     ]
    }
   ],
   "source": [
    "for sub_id in to_process_sub_id:\n",
    "    print(sub_id)\n",
    "    ### adding intendedfor parameter for field map file\n",
    "    f_list = list(\n",
    "        sorted(glob(opj(output_path,f\"sub-{sub_id}\",'func', '*_bold.nii.gz')))\n",
    "    )\n",
    "    file_names = [f.split('/')[-1] for f in f_list]\n",
    "    intended_list = [f\"func/{f}\" for f in file_names]\n",
    "    \n",
    "    if path.exists(opj(output_path, f\"sub-{sub_id}\", \"fmap\")):\n",
    "        json_file_list = list(\n",
    "            sorted(glob(opj(output_path,f\"sub-{sub_id}\",'fmap', '*.json')))\n",
    "        )\n",
    "        print(json_file_list)\n",
    "        for json_file in json_file_list:\n",
    "            json_file = Path(json_file)\n",
    "            write_metadata(json_file, intended_list)\n",
    "        print(f\"Completed sub-{sub_id} ...\")"
   ]
  },
  {
   "cell_type": "code",
   "execution_count": 19,
   "metadata": {},
   "outputs": [],
   "source": []
  },
  {
   "cell_type": "code",
   "execution_count": 21,
   "metadata": {},
   "outputs": [],
   "source": []
  },
  {
   "cell_type": "code",
   "execution_count": null,
   "metadata": {},
   "outputs": [],
   "source": []
  }
 ],
 "metadata": {
  "kernelspec": {
   "display_name": "Python 3",
   "language": "python",
   "name": "python3"
  },
  "language_info": {
   "codemirror_mode": {
    "name": "ipython",
    "version": 3
   },
   "file_extension": ".py",
   "mimetype": "text/x-python",
   "name": "python",
   "nbconvert_exporter": "python",
   "pygments_lexer": "ipython3",
   "version": "3.6.5"
  }
 },
 "nbformat": 4,
 "nbformat_minor": 2
}
