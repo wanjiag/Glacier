{
 "cells": [
  {
   "cell_type": "code",
   "execution_count": 23,
   "id": "49156ef9-c47d-478e-a8ca-589466f3e093",
   "metadata": {
    "tags": []
   },
   "outputs": [
    {
     "name": "stdout",
     "output_type": "stream",
     "text": [
      "['sub-GLACIER02', 'sub-GLACIER03', 'sub-GLACIER04', 'sub-GLACIER06', 'sub-GLACIER07', 'sub-GLACIER08', 'sub-GLACIER10', 'sub-GLACIER11', 'sub-GLACIER12', 'sub-GLACIER13', 'sub-GLACIER14', 'sub-GLACIER16']\n"
     ]
    }
   ],
   "source": [
    "from glob import glob\n",
    "import os \n",
    "from os.path import join as opj\n",
    "import subprocess\n",
    "\n",
    "from typing import Union, List\n",
    "from shlex import split\n",
    "import sys\n",
    "\n",
    "def run_cmd(\n",
    "    cmd: Union[str, list[str]],\n",
    "    print_output: bool = True,\n",
    "    shell: bool = False,\n",
    "    check: bool = True,\n",
    "    **kwargs,\n",
    ") -> subprocess.CompletedProcess:\n",
    "    \"\"\"Executes command in Shell.\n",
    "\n",
    "    Args:\n",
    "        cmd: Command to be executed in external shell. It could be a\n",
    "            string or a list of command parts (see subprocess function\n",
    "            'run' for details).\n",
    "        print_output: If true, print out the shell outputs.\n",
    "        shell: If true, the command will be executed through the shell\n",
    "            (see subprocess doc for details).\n",
    "        check: If check is true, and the process exits with a non-zero\n",
    "            exit code, a CalledProcessError exception will be raised.\n",
    "            Attributes of that exception hold the arguments, the exit\n",
    "            code, and stdout and stderr if they were captured.\n",
    "        **kwargs: Additional keyword arguments pass to function 'run'.\n",
    "\n",
    "    Returns:\n",
    "        A subprocess.CompletedProcess object.\n",
    "    \"\"\"\n",
    "\n",
    "    try:\n",
    "        if shell:\n",
    "            if isinstance(cmd, list):\n",
    "                cmd = \" \".join(cmd)\n",
    "            res = subprocess.run(\n",
    "                cmd, shell=True, capture_output=True, check=check, encoding=\"utf-8\", **kwargs\n",
    "            )\n",
    "        else:\n",
    "            if isinstance(cmd, str):\n",
    "                cmd = split(cmd)\n",
    "            res = subprocess.run(cmd, capture_output=True, check=check, encoding=\"utf-8\", **kwargs)\n",
    "        if print_output:\n",
    "            if res.stdout != \"\":\n",
    "                print(res.stdout.rstrip(\"\\n\"), flush=True)\n",
    "            if res.stderr != \"\":\n",
    "                print(res.stderr, flush=True)\n",
    "    except subprocess.CalledProcessError as e:\n",
    "        print(e.stdout)\n",
    "        print(e.stderr)\n",
    "        sys.exit(1)\n",
    "    return res\n",
    "\n",
    "\n",
    "def sh(script):\n",
    "    os.system(\"bash -c '%s'\" % script)\n",
    "    \n",
    "\n",
    "epi_mask_threshold = 0.5\n",
    "singularity_prefix = 'singularity exec --bind /projects/kuhl_lab/wanjiag/GLACIER/derivatives:/projects/kuhl_lab/wanjiag/GLACIER/derivatives /gpfs/projects/kuhl_lab/shared/fmriprep-v23.2.0.simg'\n",
    "\n",
    "subfields = {'ca1':1,\n",
    "             'ca23dg':[2,4] #choosing 2 to 4, including ca2, dg, and ca3\n",
    "            }\n",
    "######## Running ########\n",
    "\n",
    "derivative_dir = '/projects/kuhl_lab/wanjiag/GLACIER/derivatives/'\n",
    "glm_base_dir = opj(derivative_dir, 'glm/')\n",
    "fmriprep_base_dir = opj(derivative_dir, 'fmriprep/')\n",
    "\n",
    "roi_base_dir = opj(derivative_dir, 'roi/')\n",
    "ashs_base_dir = opj(roi_base_dir, 'ASHS/')\n",
    "automatic_detecting_subjects = True\n",
    "\n",
    "if automatic_detecting_subjects:\n",
    "    f_list = glob(os.path.join(glm_base_dir, '*sub-GLACIER*/'))\n",
    "    subs = list(map(lambda f: f[len(os.path.commonpath(f_list))+1:-1], f_list))\n",
    "    subs.sort()\n",
    "    \n",
    "    processed_list = glob(os.path.join(roi_base_dir, '*sub-GLACIER*/'))\n",
    "    if len(processed_list) == 0:\n",
    "        todo_subs = subs\n",
    "    else:\n",
    "        processed_subs = [x.split('/')[-2] for x in processed_list]\n",
    "        todo_subs = [x for x in subs if x not in processed_subs]\n",
    "    \n",
    "    print(todo_subs)"
   ]
  },
  {
   "cell_type": "code",
   "execution_count": 2,
   "id": "43d5b451-4019-44ad-a91d-fffb23737882",
   "metadata": {
    "tags": []
   },
   "outputs": [],
   "source": [
    "sub = todo_subs[0]"
   ]
  },
  {
   "cell_type": "code",
   "execution_count": 5,
   "id": "3a25e31c-ea30-489b-9119-0de9ccdbed59",
   "metadata": {
    "tags": []
   },
   "outputs": [
    {
     "name": "stdout",
     "output_type": "stream",
     "text": [
      "--------------------sub-GLACIER01-------------------\n",
      "/projects/kuhl_lab/wanjiag/GLACIER/derivatives/roi/sub-GLACIER01\n",
      "--------------------PPA-------------------\n",
      "--------------------EVC-------------------\n"
     ]
    }
   ],
   "source": [
    "output_dir = opj(roi_base_dir, sub)\n",
    "if not os.path.isdir(output_dir):\n",
    "    os.makedirs(output_dir)\n",
    "\n",
    "fmriprep_dir = opj(fmriprep_base_dir, sub)\n",
    "glm_dir = opj(glm_base_dir, sub)\n",
    "\n",
    "print(f'--------------------{sub}-------------------')\n",
    "print(output_dir)\n",
    "\n",
    "# Getting brain mask & transformation matrix & fmriprep functional file\n",
    "brain_mask = opj(glm_dir, 'temporary_files', f'{sub}_space-T1w_desc-brain_intersect_mask.nii.gz')\n",
    "h5 = opj(fmriprep_dir, f'anat/{sub}_from-MNI152NLin2009cAsym_to-T1w_mode-image_xfm.h5')\n",
    "func_file_list = [x for x in glob(opj(fmriprep_dir, 'func', f'{sub}_task-glacier_run-*_space-T1w_desc-preproc_bold.nii.gz'))] \n",
    "func_file_list.sort()\n",
    "if len(func_file_list) != 8:\n",
    "    print(f'--------------------Some thing is wrong with {sub} functional runs-------------------')\n",
    "\n",
    "'''\n",
    "# Finding and coverting aparc into nifti file.\n",
    "mgz_file = opj(fmriprep_base_dir, 'sourcedata', 'freesurfer', sub, 'mri', 'aparc.a2009s+aseg.mgz')\n",
    "aparc_2009 = opj(output_dir, f'{sub}_aparc.a2009s+aseg.nii.gz')\n",
    "print(mgz_file)\n",
    "print(aparc_2009)\n",
    "cmd = f'mri_convert {mgz_file} {aparc_2009}'\n",
    "run_cmd(cmd)\n",
    "\n",
    "# Finding and copying aparcaseg file into ROIs folder\n",
    "aparc_file = os.path.join(fmriprep_base_dir, 'sourcedata', 'freesurfer', sub, 'mri','aparc+aseg.mgz')\n",
    "aparc = os.path.join(output_dir,  f'{sub}_aparc+aseg.nii.gz')\n",
    "print(aparc_file)\n",
    "print(aparc)\n",
    "cmd = f'mri_convert {aparc_file} {aparc}'\n",
    "run_cmd(cmd)\n",
    "'''\n",
    "\n",
    "# Calculate All runs average as a reference image\n",
    "mean_out_file = opj(output_dir, f'{sub}_space-T1w_desc-preproc_bold_mean_all.nii.gz')\n",
    "if not os.path.exists(mean_out_file): \n",
    "    add_string = ''\n",
    "    mean_func_list = []\n",
    "    for func_file in func_file_list:\n",
    "        # calculate Tmean for each functional file\n",
    "        out_file = opj(output_dir, f'{os.path.basename(func_file).split(\".\")[0]}_mean.nii.gz')\n",
    "        cmd = f'fslmaths {func_file} -Tmean {out_file}'\n",
    "        run_cmd(cmd)\n",
    "        mean_func_list.append(out_file)\n",
    "\n",
    "    # calculate mean across all functional runs\n",
    "    cmd = f'fslmaths {mean_func_list[0]} '\n",
    "    add_string = ''\n",
    "    for mean_file in mean_func_list[1:]:\n",
    "            add_string += f'-add {mean_file} '\n",
    "    mask_string = f'-mas {brain_mask}'\n",
    "    div_string = f'-div {len(mean_func_list)}'\n",
    "    run_cmd(f'{cmd} {add_string} {div_string} {mask_string} {mean_out_file}')\n",
    "\n",
    "    # Remove temporary files\n",
    "    for mean_func in mean_func_list:\n",
    "        sh(f'rm {mean_func}')\n",
    "\n",
    "# PPA from MNI space\n",
    "print('--------------------PPA-------------------')\n",
    "ppa_mni = '/home/wanjiag/projects/GLACIER/derivatives/roi/mni/ppa/ppa.nii.gz'\n",
    "ppa_out = opj(output_dir, 'ppa_mni-2-epi.nii.gz')\n",
    "cmd = f'{singularity_prefix} antsApplyTransforms -d 3 -i {ppa_mni} -r {mean_out_file} -t {h5} -f 0 -o {ppa_out}'\n",
    "run_cmd(cmd)\n",
    "# threshold & bin\n",
    "ppa_final_out = opj(output_dir, 'ppa_mni-2-epi_thr-0.5_masked_bin.nii.gz')\n",
    "cmd = f'fslmaths {ppa_out} -thr {epi_mask_threshold} -mas {brain_mask} -bin {ppa_final_out}'\n",
    "run_cmd(cmd)\n",
    "# remove temporary file\n",
    "sh(f'rm {ppa_out}')\n",
    "\n",
    "# EVC from MNI space\n",
    "print('--------------------EVC-------------------')\n",
    "ev_mni_path = '/home/wanjiag/projects/GLACIER/derivatives/roi/mni/visual_cortex/subj_vol_all'\n",
    "ev_files = ['perc_VTPM_vol_roi1_lh.nii.gz',\n",
    "            'perc_VTPM_vol_roi1_rh.nii.gz',\n",
    "            'perc_VTPM_vol_roi2_lh.nii.gz',\n",
    "            'perc_VTPM_vol_roi2_rh.nii.gz']\n",
    "\n",
    "ev_file_threshold = 50\n",
    "ev_tmp = []\n",
    "ev_output = []\n",
    "\n",
    "for ev_file in ev_files:\n",
    "    at_out_file = opj(output_dir, '{}-2-epi.nii.gz'.format(ev_file.split('.')[0]))\n",
    "    cmd = f'{singularity_prefix} antsApplyTransforms -d 3 -i {opj(ev_mni_path,ev_file)} -r {mean_out_file} -t {h5} -f 0 -o {at_out_file}'\n",
    "    run_cmd(cmd)\n",
    "    ev_tmp.append(at_out_file)\n",
    "\n",
    "    trh_out_file = opj(output_dir, '{}-2-epi_thr-{}.nii.gz'.format(ev_file.split('.')[0], ev_file_threshold))\n",
    "\n",
    "    cmd = f'fslmaths {at_out_file} -thr {ev_file_threshold} -bin {trh_out_file}'\n",
    "    run_cmd(cmd)\n",
    "\n",
    "    ev_output.append(trh_out_file)\n"
   ]
  },
  {
   "cell_type": "code",
   "execution_count": 6,
   "id": "d9b34ed2-2da3-4924-87d4-8f4c1f8c9f14",
   "metadata": {
    "tags": []
   },
   "outputs": [],
   "source": [
    "# calculate mean across all functional runs\n",
    "cmd = f'fslmaths {ev_output[0]} '\n",
    "add_string = ''\n",
    "ev_out = opj(output_dir, f'evc-2-epi_thr-{ev_file_threshold}_masked_bin.nii.gz')\n",
    "for ev_file in ev_output[1:]:\n",
    "        add_string += f'-add {ev_file} '\n",
    "mask_string = f'-mas {brain_mask}'\n",
    "run_cmd(f'{cmd} {add_string} {mask_string} -bin {ev_out}')\n",
    "\n",
    "# Remove temporary files\n",
    "for ev_file in ev_output:\n",
    "    sh(f'rm {ev_file}')\n",
    "\n",
    "for ev_file in ev_tmp:\n",
    "    sh(f'rm {ev_file}')"
   ]
  },
  {
   "cell_type": "code",
   "execution_count": 53,
   "id": "39f1fc55-9c5c-4393-bd0e-a63380b27dae",
   "metadata": {
    "tags": []
   },
   "outputs": [
    {
     "name": "stdout",
     "output_type": "stream",
     "text": [
      "--------------------ASHS-------------------\n"
     ]
    }
   ],
   "source": [
    "# ASHS subfields\n",
    "ashs_output_dir = f'/home/wanjiag/projects/GLACIER/derivatives/roi/ASHS/{sub}'\n",
    "\n",
    "if os.path.exists(ashs_output_dir):\n",
    "    print('--------------------ASHS-------------------')\n",
    "    left = opj(ashs_output_dir, f'final/{sub}_left_lfseg_corr_nogray.nii.gz')\n",
    "    right = opj(ashs_output_dir, f'final/{sub}_right_lfseg_corr_nogray.nii.gz')\n",
    "\n",
    "    temp_dir = opj(output_dir, 'temp')\n",
    "    if not os.path.isdir(temp_dir):\n",
    "        os.makedirs(temp_dir)\n",
    "    \n",
    "    t1_file = opj(ashs_output_dir, 'mprage.nii.gz')\n",
    "    t2_file = opj(ashs_output_dir, 'tse.nii.gz')\n",
    "\n",
    "    output_mat = opj(temp_dir, 't2-to-t1.mat')\n",
    "    cmd = f'flirt -in {t2_file} -ref {t1_file} -dof 6 -cost mutualinfo -omat {output_mat}'\n",
    "    run_cmd(cmd)\n",
    "\n",
    "    #t1 = opj(fmriprep_dir, 'anat', f'{sub}_desc-preproc_T1w.nii.gz')\n",
    "    #ref_mat = opj(ashs_output_dir, 'flirt_t2_to_t1', 'flirt_t2_to_t1.mat')\n",
    "\n",
    "    for i in subfields:\n",
    "        if i == 'ca1':\n",
    "            op_string = f'-thr {subfields[i]} -uthr {subfields[i]} -bin'\n",
    "        if i == 'ca23dg':\n",
    "            op_string = f'-thr {subfields[i][0]} -uthr {subfields[i][1]} -bin'\n",
    "\n",
    "        # left roi\n",
    "        left_out_file = opj(temp_dir, f'{i}-left_T2w.nii.gz')\n",
    "        cmd = f'fslmaths {left} {op_string} {left_out_file}'\n",
    "        run_cmd(cmd)\n",
    "\n",
    "        # right roi\n",
    "        right_out_file = opj(temp_dir, f'{i}-right_T2w.nii.gz')\n",
    "        cmd = f'fslmaths {right} {op_string} {right_out_file}'\n",
    "        run_cmd(cmd)\n",
    "\n",
    "        # combined roi\n",
    "        combined_file = opj(temp_dir, f'{i}_T2w.nii.gz')\n",
    "        cmd = f'fslmaths {left_out_file} -add {right_out_file} -bin {combined_file}'\n",
    "        run_cmd(cmd)\n",
    "        \n",
    "        # t2 to t1 space\n",
    "        combined_file_t1 = opj(temp_dir, f'{i}_T2w-2-t1.nii.gz')\n",
    "        cmd = f'flirt -ref {t1_file} -in {combined_file} -applyxfm -init {output_mat} -out {combined_file_t1}'\n",
    "        run_cmd(cmd)\n",
    "        \n",
    "        # t1 to epi space\n",
    "        combined_file_epi = opj(temp_dir, f'{i}_t1-2-epi.nii.gz')\n",
    "        cmd = f'flirt -in {combined_file_t1} -ref {mean_out_file} -applyxfm -usesqform -o {combined_file_epi}'\n",
    "        run_cmd(cmd)\n",
    "\n",
    "        # epi space mask + threshold\n",
    "        combined_file_epi_thr = opj(output_dir, f'{i}_t1-2-epi_masked_thr-{epi_mask_threshold}.nii.gz')\n",
    "        cmd = f'fslmaths {combined_file_epi} -thr {epi_mask_threshold} -mas {brain_mask} -bin {combined_file_epi_thr}'\n",
    "        run_cmd(cmd)\n",
    "    \n",
    "        # Hippocampus body\n",
    "        body_file = hippo_body(left_out_file, right_out_file, i, sub, output_dir, temp_dir)\n",
    "        \n",
    "        # t2 to t1 space\n",
    "        combined_file_t1 = opj(temp_dir, f'{i}-body_T2w-2-t1.nii.gz')\n",
    "        cmd = f'flirt -ref {t1_file} -in {body_file} -applyxfm -init {output_mat} -out {combined_file_t1}'\n",
    "        run_cmd(cmd)\n",
    "        \n",
    "        # t1 to epi space\n",
    "        combined_file_epi = opj(temp_dir, f'{i}-body_t1-2-epi.nii.gz')\n",
    "        cmd = f'flirt -in {combined_file_t1} -ref {mean_out_file} -applyxfm -usesqform -o {combined_file_epi}'\n",
    "        run_cmd(cmd)\n",
    "\n",
    "        # epi space mask + threshold\n",
    "        combined_file_epi_thr = opj(output_dir, f'{i}-body_t1-2-epi_masked_thr-{epi_mask_threshold}.nii.gz')\n",
    "        cmd = f'fslmaths {combined_file_epi} -thr {epi_mask_threshold} -mas {brain_mask} -bin {combined_file_epi_thr}'\n",
    "        run_cmd(cmd)"
   ]
  },
  {
   "cell_type": "code",
   "execution_count": 52,
   "id": "c8f4ed38-da76-4ae8-880a-9d11f9461c40",
   "metadata": {
    "tags": []
   },
   "outputs": [],
   "source": []
  },
  {
   "cell_type": "code",
   "execution_count": 50,
   "id": "d63b285b-9e7d-4c59-b078-4d95c3f4af7d",
   "metadata": {
    "tags": []
   },
   "outputs": [
    {
     "data": {
      "text/plain": [
       "'/projects/kuhl_lab/wanjiag/GLACIER/derivatives/roi/sub-GLACIER01/temp'"
      ]
     },
     "execution_count": 50,
     "metadata": {},
     "output_type": "execute_result"
    }
   ],
   "source": [
    "temp_dir"
   ]
  },
  {
   "cell_type": "code",
   "execution_count": 51,
   "id": "7bbcaa79-ffaa-4f65-9712-84ee3a6ac552",
   "metadata": {
    "tags": []
   },
   "outputs": [],
   "source": [
    "LEFT = {'sub-GLACIER01':[33,8]}\n",
    "\n",
    "RIGHT = {'sub-GLACIER01':[33,8]}\n",
    "\n",
    "left_t2, right_t2 = hippo_body(left, right, sub, output_dir, temp_dir)"
   ]
  },
  {
   "cell_type": "code",
   "execution_count": null,
   "id": "224bce79-14e8-44c2-8893-043f213f1723",
   "metadata": {},
   "outputs": [],
   "source": [
    "fslroi /home/wanjiag/projects/MONSTERA/derivatives/rois/ASHS/sub-MONSTERA53/final/sub-MONSTERA53_left_lfseg_corr_nogray.nii.gz /home/wanjiag/projects/MONSTERA/derivatives/rois/sub-MONSTERA53/ashs/body/sub-MONSTERA53_left_body_nogray.nii.gz 0 -1 0 -1 31 10\n",
    "fslroi /home/wanjiag/projects/MONSTERA/derivatives/rois/ASHS/empty_t2.nii.gz /home/wanjiag/projects/MONSTERA/derivatives/rois/sub-MONSTERA53/ashs/body/front_empty.nii.gz 0 -1 0 -1 0 30\n",
    "fslroi /home/wanjiag/projects/MONSTERA/derivatives/rois/ASHS/empty_t2.nii.gz /home/wanjiag/projects/MONSTERA/derivatives/rois/sub-MONSTERA53/ashs/body/end_empty.nii.gz 0 -1 0 -1 0 25\n",
    "fslroi /home/wanjiag/projects/MONSTERA/derivatives/rois/ASHS/sub-MONSTERA53/final/sub-MONSTERA53_right_lfseg_corr_nogray.nii.gz /home/wanjiag/projects/MONSTERA/derivatives/rois/sub-MONSTERA53/ashs/body/sub-MONSTERA53_right_body_nogray.nii.gz 0 -1 0 -1 31 10\n",
    "fslroi /home/wanjiag/projects/MONSTERA/derivatives/rois/ASHS/empty_t2.nii.gz /home/wanjiag/projects/MONSTERA/derivatives/rois/sub-MONSTERA53/ashs/body/front_empty.nii.gz 0 -1 0 -1 0 30\n",
    "fslroi /home/wanjiag/projects/MONSTERA/derivatives/rois/ASHS/empty_t2.nii.gz /home/wanjiag/projects/MONSTERA/derivatives/rois/sub-MONSTERA53/ashs/body/end_empty.nii.gz 0 -1 0 -1 0 25"
   ]
  },
  {
   "cell_type": "code",
   "execution_count": null,
   "id": "718e488b-522f-4259-b77d-121d2facab24",
   "metadata": {},
   "outputs": [],
   "source": []
  },
  {
   "cell_type": "code",
   "execution_count": null,
   "id": "7a1d7df9-a500-44f7-afbe-93239d01a1e3",
   "metadata": {},
   "outputs": [],
   "source": []
  },
  {
   "cell_type": "code",
   "execution_count": null,
   "id": "e609b9a3-5ad0-45c8-a056-ba2fc14bf304",
   "metadata": {},
   "outputs": [],
   "source": []
  },
  {
   "cell_type": "code",
   "execution_count": null,
   "id": "9bfe7281-68c5-4dc5-a58e-cbeeda486539",
   "metadata": {},
   "outputs": [],
   "source": []
  },
  {
   "cell_type": "code",
   "execution_count": null,
   "id": "e62c8097-6e2e-4d63-807e-00d93f8e848d",
   "metadata": {},
   "outputs": [],
   "source": []
  },
  {
   "cell_type": "code",
   "execution_count": null,
   "id": "1cf91521-11ea-44d2-893f-c4560bfb6836",
   "metadata": {},
   "outputs": [],
   "source": []
  },
  {
   "cell_type": "code",
   "execution_count": null,
   "id": "9bf6d8aa-5d56-4c59-a680-59d55613c925",
   "metadata": {},
   "outputs": [],
   "source": []
  }
 ],
 "metadata": {
  "kernelspec": {
   "display_name": "Python 3 (ipykernel)",
   "language": "python",
   "name": "python3"
  },
  "language_info": {
   "codemirror_mode": {
    "name": "ipython",
    "version": 3
   },
   "file_extension": ".py",
   "mimetype": "text/x-python",
   "name": "python",
   "nbconvert_exporter": "python",
   "pygments_lexer": "ipython3",
   "version": "3.10.14"
  }
 },
 "nbformat": 4,
 "nbformat_minor": 5
}
