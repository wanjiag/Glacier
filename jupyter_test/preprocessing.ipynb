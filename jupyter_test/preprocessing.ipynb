{
 "cells": [
  {
   "cell_type": "code",
   "execution_count": 1,
   "metadata": {},
   "outputs": [],
   "source": [
    "from os.path import join as opj\n",
    "import glob\n",
    "import re\n",
    "from glm_utils import *"
   ]
  },
  {
   "cell_type": "code",
   "execution_count": 2,
   "metadata": {},
   "outputs": [],
   "source": [
    "%load_ext autoreload\n",
    "%autoreload 2"
   ]
  },
  {
   "cell_type": "code",
   "execution_count": 3,
   "metadata": {},
   "outputs": [],
   "source": [
    "%reload_ext autoreload"
   ]
  },
  {
   "cell_type": "code",
   "execution_count": 4,
   "metadata": {},
   "outputs": [
    {
     "name": "stdout",
     "output_type": "stream",
     "text": [
      "['sub-GLACIER01', 'sub-GLACIER02', 'sub-GLACIER03', 'sub-GLACIER04', 'sub-GLACIER06', 'sub-GLACIER07', 'sub-GLACIER08', 'sub-GLACIER10', 'sub-GLACIER11', 'sub-GLACIER12', 'sub-GLACIER13', 'sub-GLACIER14', 'sub-GLACIER16', 'sub-GLACIER18']\n"
     ]
    }
   ],
   "source": [
    "confounds_list = [\n",
    "    \"trans_x\", \"trans_y\", \"trans_z\",\n",
    "    \"rot_x\", \"rot_y\", \"rot_z\",\n",
    "    \"framewise_displacement\",\n",
    "    'a_comp_cor_00', 'a_comp_cor_01','a_comp_cor_02','a_comp_cor_03','a_comp_cor_04','a_comp_cor_05', \n",
    "    'csf']\n",
    "repetition_time = 2.\n",
    "fd_thresh = 0.5\n",
    "std_dvars_thresh = 1.5\n",
    "num_TRs = 168\n",
    "# Onset time offset (adjust for slice timing correction)\n",
    "# see https://afni.nimh.nih.gov/pub/dist/doc/program_help/3dTshift.html\n",
    "# and fMRIPrep implementation https://github.com/nipreps/fmriprep/blob/7f68f590d3abfb7800067a88d74c4f18ac512c29/fmriprep/workflows/bold/stc.py#L100\n",
    "# tzero = np.round(first + frac * (last - first), 3)\n",
    "# first and last timing could be found in SliceTiming field in raw data json file\n",
    "stim_times_subtract = np.round(0 + 0.5 * (1.9 - 0), 3)\n",
    "\n",
    "derivative_dir = '/projects/kuhl_lab/wanjiag/GLACIER/derivatives/'\n",
    "fmriprep_dir = opj(derivative_dir, 'fmriprep/')\n",
    "behav_dir = opj(derivative_dir, 'behavior/')\n",
    "\n",
    "f_list = [x for x in glob.glob(os.path.join(fmriprep_dir, '*sub-GLACIER*/'))]\n",
    "subs = list(map(lambda f: f[len(os.path.commonpath(f_list))+1:-1], f_list))\n",
    "subs.sort()\n",
    "print(subs)"
   ]
  },
  {
   "cell_type": "code",
   "execution_count": 5,
   "metadata": {},
   "outputs": [
    {
     "data": {
      "text/plain": [
       "'sub-GLACIER03'"
      ]
     },
     "execution_count": 5,
     "metadata": {},
     "output_type": "execute_result"
    }
   ],
   "source": [
    "sub = subs[2]\n",
    "sub"
   ]
  },
  {
   "cell_type": "code",
   "execution_count": 6,
   "metadata": {},
   "outputs": [
    {
     "name": "stdout",
     "output_type": "stream",
     "text": [
      "++ processing 1 input dataset(s), NN=2...\n",
      "++ padding all datasets by 0 (for dilations)\n",
      "++ have 8 volumes of input to combine\n",
      "++ frac 1 over 8 volumes gives min count 8\n",
      "++ voxel limits: 12540 clipped, 268452 survived, 375336 were zero\n",
      "++ writing result sub-GLACIER03_space-T1w_desc-brain_intersect_mask.nii.gz...\n",
      "++ Output dataset /projects/kuhl_lab/wanjiag/GLACIER/derivatives/glm/sub-GLACIER03/temporary_files/sub-GLACIER03_space-T1w_desc-brain_intersect_mask.nii.gz\n",
      "\n"
     ]
    }
   ],
   "source": [
    "sub_id = re.findall(r'\\d', sub)\n",
    "sub_id = \"\".join(list(map(str, sub_id)))\n",
    "\n",
    "behav_file_list =  [x for x in glob.glob(opj(behav_dir, f'sub{sub_id}', f'sub{sub_id}_exposure*_behav_*.csv'))]\n",
    "behav_file_list.sort()\n",
    "timing_file_list = [x for x in glob.glob(opj(behav_dir, f'sub{sub_id}', f'sub{sub_id}_exposure*_timing_*.csv'))]\n",
    "timing_file_list.sort()\n",
    "\n",
    "bold_dir=opj(fmriprep_dir, f'{sub}/func/')\n",
    "out_dir = opj(derivative_dir, f'glm/{sub}')\n",
    "\n",
    "if not os.path.isdir(out_dir):\n",
    "    os.makedirs(out_dir)\n",
    "\n",
    "tmp_dir = opj(out_dir, 'temporary_files')\n",
    "if not os.path.isdir(tmp_dir):\n",
    "    os.makedirs(tmp_dir)\n",
    "    \n",
    "confound_dir = opj(out_dir, 'confound_files')\n",
    "if not os.path.isdir(confound_dir):\n",
    "    os.makedirs(confound_dir)\n",
    "\n",
    "xmat_dir = opj(out_dir, 'xmat_files')\n",
    "if not os.path.isdir(xmat_dir):\n",
    "    os.makedirs(xmat_dir)\n",
    "    \n",
    "bucket_dir = opj(out_dir, 'bucket_files')\n",
    "if not os.path.isdir(bucket_dir):\n",
    "    os.makedirs(bucket_dir)\n",
    "    \n",
    "#trl_mod_dir = Path(tmp_dir).joinpath(\"bucket_files\")\n",
    "#trl_mod_dir.mkdir(exist_ok=True, parents=True)\n",
    "\n",
    "func_file_list = [x for x in glob.glob(opj(bold_dir, f'{sub}_task-glacier_run-*_space-T1w_desc-preproc_bold.nii.gz'))] \n",
    "func_file_list.sort()\n",
    "\n",
    "# making general mask\n",
    "mask_file_list = [x for x in glob.glob(opj(bold_dir, f'{sub}_task-glacier_run-*_space-T1w_desc-brain_mask.nii.gz'))]\n",
    "mask_file_list.sort()\n",
    "\n",
    "mask_intersect = opj(tmp_dir, f'{sub}_space-T1w_desc-brain_intersect_mask.nii.gz')\n",
    "if not os.path.exists(mask_intersect): \n",
    "    intersect_masks(mask_file_list, mask_intersect)"
   ]
  },
  {
   "cell_type": "code",
   "execution_count": 7,
   "metadata": {},
   "outputs": [
    {
     "name": "stdout",
     "output_type": "stream",
     "text": [
      "Confounds regressor: trans_x, trans_y, trans_z, rot_x, rot_y, rot_z, framewise_displacement, a_comp_cor_00, a_comp_cor_01, a_comp_cor_02, a_comp_cor_03, a_comp_cor_04, a_comp_cor_05, csf.\n",
      "Mean center all regressors within each run.\n",
      "Framewise Displacement threshold: 0.5\n",
      "Standards DVARS threshold: 1.5\n",
      "Total censored TR number: 164(12.20%)\n"
     ]
    }
   ],
   "source": [
    "# fmriprep confound files\n",
    "confound_file_list = [x for x in glob.glob(opj(bold_dir, f'{sub}_task-glacier_run-*_desc-confounds_timeseries.tsv'))]\n",
    "confound_file_list.sort()\n",
    "\n",
    "confounds = []\n",
    "for f in confound_file_list:\n",
    "    confounds_run = pd.read_csv(f, sep=\"\\t\")\n",
    "\n",
    "    # add useful information\n",
    "    confounds_run[\"sub\"] = sub\n",
    "    confounds_run[\"run_id\"] = int(f.split('/')[-1].split('_')[2].split('-')[-1])\n",
    "    col_list = confounds_run.columns.tolist()\n",
    "    confounds_run = confounds_run.loc[:, col_list]\n",
    "    confounds.append(confounds_run)\n",
    "    \n",
    "try:\n",
    "    confounds = pd.concat(confounds).reset_index(drop=True)\n",
    "except InvalidIndexError as e:\n",
    "    print(\n",
    "        \"This error is likely due to the different number of *_comp_cor columns in \"\n",
    "        \"different runs.\\nIf that's the case, read each run separately or set \"\n",
    "        \"'exclude_compcor' to True.\"\n",
    "    )\n",
    "    raise e\n",
    "\n",
    "confounds_cur_list = [\n",
    "            \"trans_x\",\n",
    "            \"trans_y\",\n",
    "            \"trans_z\",\n",
    "            \"rot_x\",\n",
    "            \"rot_y\",\n",
    "            \"rot_z\",\n",
    "            \"framewise_displacement\",\n",
    "            \"std_dvars\",\n",
    "            \"dvars\",\n",
    "            \"rmsd\",\n",
    "            \"global_signal\",\n",
    "            \"csf\",\n",
    "            \"white_matter\",\n",
    "            \"csf_wm\",\n",
    "            'a_comp_cor_00', 'a_comp_cor_01','a_comp_cor_02','a_comp_cor_03','a_comp_cor_04','a_comp_cor_05',\n",
    "        ]\n",
    "if confounds_cur_list:\n",
    "    confounds = confounds.loc[:, [\"sub\", \"run_id\"] + confounds_cur_list]\n",
    "    \n",
    "# Make motion confounds regressor file\n",
    "confounds_file = make_confounds_regressor(df = confounds,\n",
    "    out_dir = Path(confound_dir),\n",
    "    demean = True,\n",
    "    split_into_runs = True,\n",
    "    confounds_list = confounds_list)\n",
    "\n",
    "for f in confounds_file:\n",
    "    # check and remove allzero confounds column\n",
    "    _, bad_col_idx = remove_allzero_column(f)\n",
    "    if len(bad_col_idx) != 0:\n",
    "        print(f\"All zero column: {' '.join(list(np.array(f)[bad_col_idx]))}\")\n",
    "        \n",
    "# Make good TR file\n",
    "goodtr_file, _ = make_good_tr_regressor(\n",
    "    confounds,\n",
    "    Path(confound_dir),\n",
    "    fd_thresh=fd_thresh,\n",
    "    std_dvars_thresh=std_dvars_thresh,\n",
    "    censor_prev_tr=False,\n",
    ")"
   ]
  },
  {
   "cell_type": "markdown",
   "metadata": {},
   "source": [
    "Mean center a subset? - important for confounds, provide easier explanations for confounds"
   ]
  },
  {
   "cell_type": "code",
   "execution_count": null,
   "metadata": {},
   "outputs": [],
   "source": []
  },
  {
   "cell_type": "code",
   "execution_count": 8,
   "metadata": {},
   "outputs": [],
   "source": [
    "func_file = func_file_list[0]\n",
    "func_id = 0"
   ]
  },
  {
   "cell_type": "code",
   "execution_count": 9,
   "metadata": {},
   "outputs": [],
   "source": [
    "# Calculate run length\n",
    "run_length = calc_run_length(Path(func_file), cifti=True)[0]\n",
    "if run_length != num_TRs:\n",
    "    print(f'==============={func_file} has incorrect number of TRs, please check raw files===============')\n",
    "    "
   ]
  },
  {
   "cell_type": "code",
   "execution_count": 10,
   "metadata": {},
   "outputs": [
    {
     "name": "stdout",
     "output_type": "stream",
     "text": [
      "++ 3dTstat: AFNI version=AFNI_24.0.17 (Mar 24 2024) [64-bit]\n",
      "++ Authored by: KR Hammett & RW Cox\n",
      "++ Output dataset /tmp/tmpvp9bqwd_/mean.nii.gz\n",
      "\n",
      "++ 3dcalc: AFNI version=AFNI_24.0.17 (Mar 24 2024) [64-bit]\n",
      "++ Authored by: A cast of thousands\n",
      "++ Output dataset /projects/kuhl_lab/wanjiag/GLACIER/derivatives/glm/sub-GLACIER03/temporary_files/sub-GLACIER03_task-glacier_run-1_space-T1w_scaled.nii.gz\n",
      "\n"
     ]
    }
   ],
   "source": [
    "fname_prefix = '_'.join(func_file.split('/')[-1].split('_')[:4])\n",
    "scaled_file = scale_func_image(\n",
    "        func_file, Path(tmp_dir, f\"{fname_prefix}_scaled.nii.gz\"), mask_file = mask_intersect, cifti=False\n",
    "    )"
   ]
  },
  {
   "cell_type": "code",
   "execution_count": 23,
   "metadata": {},
   "outputs": [
    {
     "data": {
      "text/plain": [
       "'sub-GLACIER03_task-glacier_run-1_space-T1w'"
      ]
     },
     "execution_count": 23,
     "metadata": {},
     "output_type": "execute_result"
    }
   ],
   "source": [
    "fname_prefix"
   ]
  },
  {
   "cell_type": "code",
   "execution_count": 12,
   "metadata": {},
   "outputs": [
    {
     "data": {
      "text/plain": [
       "PosixPath('/projects/kuhl_lab/wanjiag/GLACIER/derivatives/glm/sub-GLACIER03/confound_files/1_confounds.1D')"
      ]
     },
     "execution_count": 12,
     "metadata": {},
     "output_type": "execute_result"
    }
   ],
   "source": [
    "confounds_file[func_id]"
   ]
  },
  {
   "cell_type": "code",
   "execution_count": 13,
   "metadata": {},
   "outputs": [
    {
     "name": "stdout",
     "output_type": "stream",
     "text": [
      "/projects/kuhl_lab/wanjiag/GLACIER/derivatives/fmriprep/sub-GLACIER03/func/sub-GLACIER03_task-glacier_run-1_space-T1w_desc-preproc_bold.nii.gz\n",
      "/projects/kuhl_lab/wanjiag/GLACIER/derivatives/behavior/sub03/sub03_exposure0_timing_2024-01-31_14h20.02.893.csv\n",
      "/projects/kuhl_lab/wanjiag/GLACIER/derivatives/behavior/sub03/sub03_exposure0_behav_2024-01-31_14h20.02.893.csv\n",
      "/projects/kuhl_lab/wanjiag/GLACIER/derivatives/glm/sub-GLACIER03/confound_files/1_confounds.1D\n",
      "/projects/kuhl_lab/wanjiag/GLACIER/derivatives/glm/sub-GLACIER03/confound_files/1_goodtr.1D\n"
     ]
    }
   ],
   "source": [
    "timing_file = timing_file_list[func_id]\n",
    "timing = pd.read_csv(timing_file)\n",
    "\n",
    "behav_file = behav_file_list[func_id]\n",
    "behav = pd.read_csv(behav_file)\n",
    "\n",
    "curr_confounds_file = confounds_file[func_id]\n",
    "curr_goodtr_file = goodtr_file[func_id]\n",
    "\n",
    "print(func_file)\n",
    "print(timing_file)\n",
    "print(behav_file)\n",
    "print(curr_confounds_file)\n",
    "print(curr_goodtr_file)"
   ]
  },
  {
   "cell_type": "code",
   "execution_count": 59,
   "metadata": {},
   "outputs": [
    {
     "data": {
      "text/plain": [
       "'1'"
      ]
     },
     "execution_count": 59,
     "metadata": {},
     "output_type": "execute_result"
    }
   ],
   "source": [
    "os.path.basename(curr_confounds_file).split('_')[0]"
   ]
  },
  {
   "cell_type": "code",
   "execution_count": 21,
   "metadata": {},
   "outputs": [
    {
     "data": {
      "text/plain": [
       "1"
      ]
     },
     "execution_count": 21,
     "metadata": {},
     "output_type": "execute_result"
    }
   ],
   "source": [
    "goodtr_id = int(re.findall(r'\\d', os.path.basename(curr_goodtr_file).split('_')[1])[0])"
   ]
  },
  {
   "cell_type": "code",
   "execution_count": 26,
   "metadata": {},
   "outputs": [],
   "source": [
    "run_id = int(re.findall(r'\\d', os.path.basename(scaled_file).split('_')[2])[0])\n",
    "behav_id = int(re.findall(r'\\d', os.path.basename(behav_file).split('_')[1])[0]) + 1 #behav start from 0\n",
    "timing_id = int(re.findall(r'\\d', os.path.basename(timing_file).split('_')[1])[0]) + 1 #behav start from 0\n",
    "confound_id = int(re.findall(r'\\d', os.path.basename(curr_confounds_file).split('_')[1])[0]) #behav start from 0\n",
    "goodtr_id\n",
    "\n",
    "\n",
    "if run_id != behav_id or run_id != timing_id or run_id != confound_id or run_id != goodtr_id:\n",
    "    print(f'==============={func_file} has incorrect files: index inconsistent===============')"
   ]
  },
  {
   "cell_type": "code",
   "execution_count": 27,
   "metadata": {},
   "outputs": [],
   "source": [
    "design_matrix = timing.loc[(timing['stimli'] != 'fixation') & (timing['stimli'] != 'resp-6')].reset_index(drop=True)"
   ]
  },
  {
   "cell_type": "code",
   "execution_count": 28,
   "metadata": {},
   "outputs": [],
   "source": [
    "design_matrix = design_matrix.drop_duplicates(subset=['stimli']).loc[:,['stimli', 'design_onset']]"
   ]
  },
  {
   "cell_type": "code",
   "execution_count": 29,
   "metadata": {},
   "outputs": [],
   "source": [
    "trl_list = design_matrix[\"stimli\"].values\n",
    "time_list = design_matrix['design_onset'].values"
   ]
  },
  {
   "cell_type": "code",
   "execution_count": 30,
   "metadata": {},
   "outputs": [
    {
     "data": {
      "text/plain": [
       "array(['gazebo10', 'gazebo20', 'beach20', 'beach2', 'beach13', 'gazebo12',\n",
       "       'gazebo19', 'lure-gazebo0', 'gazebo8', 'gazebo22', 'beach5',\n",
       "       'beach9', 'gazebo4', 'beach12', 'beach0', 'beach19', 'gazebo7',\n",
       "       'gazebo17', 'lure-beach20', 'gazebo6', 'lure-gazebo20',\n",
       "       'lure-gazebo3', 'gazebo15', 'gazebo0', 'beach7', 'gazebo3',\n",
       "       'gazebo14', 'lure-beach0', 'beach11', 'beach16', 'beach18',\n",
       "       'gazebo23', 'gazebo5', 'gazebo13', 'beach21', 'beach1', 'beach6',\n",
       "       'beach17', 'beach3', 'beach10', 'gazebo9', 'gazebo2', 'beach15',\n",
       "       'lure-beach22', 'beach23', 'gazebo21', 'gazebo18', 'beach22',\n",
       "       'gazebo16', 'gazebo11', 'beach4', 'beach14', 'beach8', 'gazebo1'],\n",
       "      dtype=object)"
      ]
     },
     "execution_count": 30,
     "metadata": {},
     "output_type": "execute_result"
    }
   ],
   "source": [
    "trl_list"
   ]
  },
  {
   "cell_type": "code",
   "execution_count": 56,
   "metadata": {},
   "outputs": [
    {
     "data": {
      "text/plain": [
       "54"
      ]
     },
     "execution_count": 56,
     "metadata": {},
     "output_type": "execute_result"
    }
   ],
   "source": [
    "len(trl_list)"
   ]
  },
  {
   "cell_type": "code",
   "execution_count": 31,
   "metadata": {},
   "outputs": [
    {
     "data": {
      "text/plain": [
       "array([  6.,  12.,  18.,  24.,  30.,  36.,  42.,  48.,  54.,  60.,  66.,\n",
       "        72.,  78.,  84.,  90.,  96., 102., 108., 114., 120., 126., 132.,\n",
       "       138., 144., 150., 156., 162., 168., 174., 180., 186., 192., 198.,\n",
       "       204., 210., 216., 222., 228., 234., 240., 246., 252., 258., 264.,\n",
       "       270., 276., 282., 288., 294., 300., 306., 312., 318., 324.])"
      ]
     },
     "execution_count": 31,
     "metadata": {},
     "output_type": "execute_result"
    }
   ],
   "source": [
    "time_list"
   ]
  },
  {
   "cell_type": "code",
   "execution_count": 32,
   "metadata": {},
   "outputs": [],
   "source": [
    "trl_id = trl_list[0]"
   ]
  },
  {
   "cell_type": "code",
   "execution_count": 33,
   "metadata": {},
   "outputs": [
    {
     "name": "stdout",
     "output_type": "stream",
     "text": [
      "\n",
      "########## Fitting model for 1 trial: gazebo10 ##########\n"
     ]
    }
   ],
   "source": [
    "print(f\"\\n########## Fitting model for {run_id} trial: {trl_id} ##########\",\n",
    "                    flush=True,)"
   ]
  },
  {
   "cell_type": "code",
   "execution_count": 34,
   "metadata": {},
   "outputs": [],
   "source": [
    "# Make main regressors onset time file\n",
    "onset_file, _ = make_singletrial_onset_time(\n",
    "    design_matrix, trl_id, Path(xmat_dir), prefix=fname_prefix\n",
    ")"
   ]
  },
  {
   "cell_type": "code",
   "execution_count": 35,
   "metadata": {},
   "outputs": [
    {
     "name": "stdout",
     "output_type": "stream",
     "text": [
      "/home/wanjiag/abin/3dDeconvolve -DAFNI_USE_ERROR_FILE=NO -nodata 168 2.0 -local_times -polort A -num_stimts 2 -stim_times 1 /projects/kuhl_lab/wanjiag/GLACIER/derivatives/glm/sub-GLACIER03/xmat_files/sub-GLACIER03_task-glacier_run-1_space-T1w_trlgazebo10_ev-Target.1D 'SPMG1(6)' -stim_label 1 Target -stim_times 2 /projects/kuhl_lab/wanjiag/GLACIER/derivatives/glm/sub-GLACIER03/xmat_files/sub-GLACIER03_task-glacier_run-1_space-T1w_trlgazebo10_ev-Other.1D 'SPMG1(6)' -stim_label 2 Other -x1D /projects/kuhl_lab/wanjiag/GLACIER/derivatives/glm/sub-GLACIER03/xmat_files/sub-GLACIER03_task-glacier_run-1_space-T1w_trlgazebo10_xmat.1D -x1D_uncensored /projects/kuhl_lab/wanjiag/GLACIER/derivatives/glm/sub-GLACIER03/xmat_files/sub-GLACIER03_task-glacier_run-1_space-T1w_trlgazebo10_nocensor_xmat.1D -x1D_stop -ortvec /projects/kuhl_lab/wanjiag/GLACIER/derivatives/glm/sub-GLACIER03/confound_files/1_confounds.1D confounds -censor /projects/kuhl_lab/wanjiag/GLACIER/derivatives/glm/sub-GLACIER03/confound_files/1_goodtr.1D -stim_times_subtract 0.95 \n",
      "++ waveform setup: SPMG1(dur=6)\n",
      "++ 3dDeconvolve extending num_stimts from 2 to 16 due to -ortvec\n",
      "++ 3dDeconvolve: AFNI version=AFNI_24.0.17 (Mar 24 2024) [64-bit]\n",
      "++ Authored by: B. Douglas Ward, et al.\n",
      "++ using TR=2 seconds for -stim_times and -nodata\n",
      "++ using NT=168 time points for -nodata\n",
      "++ Imaging duration=336.0 s; Automatic polort=3\n",
      "++ -stim_times using TR=2 s for stimulus timing conversion\n",
      "++ -stim_times using TR=2 s for any -iresp output datasets\n",
      "++  [you can alter the -iresp TR via the -TR_times option]\n",
      "++ Subtracted 0.95 sec from 1 times for -stim_times 1\n",
      "++ -stim_times 1 using LOCAL times\n",
      "++ Subtracted 0.95 sec from 53 times for -stim_times 2\n",
      "++ -stim_times 2 using LOCAL times\n",
      "++ Number of time points: 168 (before censor) ; 159 (after)\n",
      " + Number of parameters:  20 [18 baseline ; 2 signal]\n",
      "++ Wrote matrix values to file /projects/kuhl_lab/wanjiag/GLACIER/derivatives/glm/sub-GLACIER03/xmat_files/sub-GLACIER03_task-glacier_run-1_space-T1w_trlgazebo10_xmat.1D\n",
      "++ Wrote matrix values to file /projects/kuhl_lab/wanjiag/GLACIER/derivatives/glm/sub-GLACIER03/xmat_files/sub-GLACIER03_task-glacier_run-1_space-T1w_trlgazebo10_nocensor_xmat.1D\n",
      "++ ----- Signal+Baseline matrix condition [X] (159x20):  5.09192  ++ VERY GOOD ++\n",
      "++ ----- Signal-only matrix condition [X] (159x2):  1.01685  ++ VERY GOOD ++\n",
      "++ ----- Baseline-only matrix condition [X] (159x18):  3.60326  ++ VERY GOOD ++\n",
      "++ ----- stim_base-only matrix condition [X] (159x14):  2.78002  ++ VERY GOOD ++\n",
      "++ ----- polort-only matrix condition [X] (159x4):  1.0652  ++ VERY GOOD ++\n",
      "++ 3dDeconvolve exits: -x1D_stop option was invoked\n",
      "\n"
     ]
    }
   ],
   "source": [
    "# Make model design matrix\n",
    "xmat_file = make_singletrial_design_matrix(\n",
    "    onset_file,\n",
    "    trl_id,\n",
    "    Path(xmat_dir),\n",
    "    run_length,\n",
    "    repetition_time,\n",
    "    confounds_file=curr_confounds_file,\n",
    "    goodtr_file=curr_goodtr_file,\n",
    "    stim_times_subtract=stim_times_subtract,\n",
    "    prefix=fname_prefix,\n",
    ")"
   ]
  },
  {
   "cell_type": "code",
   "execution_count": 36,
   "metadata": {},
   "outputs": [
    {
     "data": {
      "text/plain": [
       "PosixPath('/projects/kuhl_lab/wanjiag/GLACIER/derivatives/glm/sub-GLACIER03/xmat_files/sub-GLACIER03_task-glacier_run-1_space-T1w_trlgazebo10_xmat.1D')"
      ]
     },
     "execution_count": 36,
     "metadata": {},
     "output_type": "execute_result"
    }
   ],
   "source": [
    "xmat_file"
   ]
  },
  {
   "cell_type": "code",
   "execution_count": 37,
   "metadata": {},
   "outputs": [],
   "source": [
    "trial_prefix = f\"{fname_prefix}_trial-{trl_id}\""
   ]
  },
  {
   "cell_type": "code",
   "execution_count": 38,
   "metadata": {},
   "outputs": [
    {
     "data": {
      "text/plain": [
       "'sub-GLACIER03_task-glacier_run-1_space-T1w_trial-gazebo10'"
      ]
     },
     "execution_count": 38,
     "metadata": {},
     "output_type": "execute_result"
    }
   ],
   "source": [
    "trial_prefix"
   ]
  },
  {
   "cell_type": "code",
   "execution_count": 39,
   "metadata": {},
   "outputs": [
    {
     "name": "stdout",
     "output_type": "stream",
     "text": [
      "/home/wanjiag/abin/3dREMLfit -input /projects/kuhl_lab/wanjiag/GLACIER/derivatives/glm/sub-GLACIER03/temporary_files/sub-GLACIER03_task-glacier_run-1_space-T1w_scaled.nii.gz -mask /projects/kuhl_lab/wanjiag/GLACIER/derivatives/glm/sub-GLACIER03/temporary_files/sub-GLACIER03_space-T1w_desc-brain_intersect_mask.nii.gz -matrix /projects/kuhl_lab/wanjiag/GLACIER/derivatives/glm/sub-GLACIER03/xmat_files/sub-GLACIER03_task-glacier_run-1_space-T1w_trlgazebo10_xmat.1D -Rbuck /projects/kuhl_lab/wanjiag/GLACIER/derivatives/glm/sub-GLACIER03/bucket_files/sub-GLACIER03_task-glacier_run-1_space-T1w_trial-gazebo10_fitted_volume_bucket.nii.gz -tout -rout -noFDR -nobout \n",
      "++ 3dREMLfit: AFNI version=AFNI_24.0.17 (Mar 24 2024) [64-bit]\n",
      "++ Authored by: RWCox\n",
      "++ Number of voxels in mask = 268452\n",
      "++ Loading input dataset into memory\n",
      " + masked off 193 voxels for being all zero; 268259 left in mask\n",
      "++ Converting input dataset to vector image\n",
      " +  dataset = 441 million bytes\n",
      " +  vectim  = 181 million bytes\n",
      "++ starting REML setup calculations; total CPU=0.00 Elapsed=4.32\n",
      "++ REML voxel loop: 0123456789.0123456789.0123456789.0123456789.0123456789.\n",
      " + ARMA voxel parameters estimated: total CPU=0.00 Elapsed=112.09\n",
      "++ GLSQ loop:0123456789.0123456789.0123456789.0123456789.0123456789.\n",
      " + GLSQ regression done: total CPU=0.00 Elapsed=117.21\n",
      "++ Output dataset /projects/kuhl_lab/wanjiag/GLACIER/derivatives/glm/sub-GLACIER03/bucket_files/sub-GLACIER03_task-glacier_run-1_space-T1w_trial-gazebo10_fitted_volume_bucket.nii.gz\n",
      "++ 3dREMLfit is all done! total CPU=0.00 Elapsed=117.62\n",
      "\n"
     ]
    }
   ],
   "source": [
    "# Fit model use AFNI's 3dREMLfit\n",
    "bucket_file = fit_3dREMLfit_cifti_separate(\n",
    "    xmat_file,\n",
    "    bucket_dir,\n",
    "    volume_file=scaled_file,\n",
    "    volume_mask_file=mask_intersect,\n",
    "    prefix=trial_prefix,\n",
    ")"
   ]
  },
  {
   "cell_type": "code",
   "execution_count": 47,
   "metadata": {},
   "outputs": [
    {
     "data": {
      "text/plain": [
       "PosixPath('/projects/kuhl_lab/wanjiag/GLACIER/derivatives/glm/sub-GLACIER03/bucket_files/sub-GLACIER03_task-glacier_run-1_space-T1w_trial-gazebo10_fitted_volume_bucket.nii.gz')"
      ]
     },
     "execution_count": 47,
     "metadata": {},
     "output_type": "execute_result"
    }
   ],
   "source": [
    "bucket_file"
   ]
  },
  {
   "cell_type": "code",
   "execution_count": 53,
   "metadata": {},
   "outputs": [],
   "source": [
    "def extract_sub_bucket_3dTcat(\n",
    "    input_bucket_file,\n",
    "    out_dir,\n",
    "    prefix = None,\n",
    ") -> Path:\n",
    "    \"\"\"Extract individual volumn from 3dREMLfit outputs\n",
    "\n",
    "    This function extracts Target#0_Tstat|Target_R^2 from outputs\n",
    "    Assumed output subject bucket sequence: \n",
    "    Full_R^2|Full_Fstat|Target#0_Coef|Target#0_Tstat|Target_R^2|Other#0_Coef|Other#0_Tstat|Other_R^2\n",
    "    Can be checked with 3dinfo -label command\n",
    "\n",
    "    Args:\n",
    "        input_bucket_file: Input bucket file path.\n",
    "        out_dir: Directory to store output files.\n",
    "        prefix: The output filename prefix (before .dscalar.nii).\n",
    "            If None, use default names.\n",
    "\n",
    "    Returns:\n",
    "        A list of 2 files for tstats and R^2 volumn.\n",
    "\n",
    "    Raises:\n",
    "        ValueError: None of the input file is specified.\n",
    "        ValueError: Input file's format is incorrect.\n",
    "    \"\"\"\n",
    "    \n",
    "    # Parse prefix\n",
    "    prefix = \"single-vol\" if prefix is None else f\"{prefix}_single-vol\"\n",
    "    out_files = [f\"{out_dir}/{prefix}_target-tstat.nii.gz\",\n",
    "                f\"{out_dir}/{prefix}_target-R2.nii.gz\"]\n",
    "    cmd = (\n",
    "        f\"{afni_prefix}3dTcat -prefix {out_files[0]} {input_bucket_file}[3]\"\n",
    "    )\n",
    "    print(cmd)\n",
    "    run_cmd(cmd, cwd=out_dir)\n",
    "    \n",
    "    cmd = (\n",
    "        f\"{afni_prefix}3dTcat -prefix {out_files[1]} {input_bucket_file}[4]\"\n",
    "    )\n",
    "    print(cmd)\n",
    "    run_cmd(cmd, cwd=out_dir)\n",
    "\n",
    "    return out_files"
   ]
  },
  {
   "cell_type": "code",
   "execution_count": 54,
   "metadata": {},
   "outputs": [
    {
     "name": "stdout",
     "output_type": "stream",
     "text": [
      "/home/wanjiag/abin/3dTcat -prefix /projects/kuhl_lab/wanjiag/GLACIER/derivatives/glm/sub-GLACIER03/bucket_files/sub-GLACIER03_task-glacier_run-1_space-T1w_trial-gazebo10_single-vol_target-tstat.nii.gz /projects/kuhl_lab/wanjiag/GLACIER/derivatives/glm/sub-GLACIER03/bucket_files/sub-GLACIER03_task-glacier_run-1_space-T1w_trial-gazebo10_fitted_volume_bucket.nii.gz[3]\n",
      "++ 3dTcat: AFNI version=AFNI_24.0.17 (Mar 24 2024) [64-bit]\n",
      "++ elapsed time = 0.4 s\n",
      "\n",
      "/home/wanjiag/abin/3dTcat -prefix /projects/kuhl_lab/wanjiag/GLACIER/derivatives/glm/sub-GLACIER03/bucket_files/sub-GLACIER03_task-glacier_run-1_space-T1w_trial-gazebo10_single-vol_target-R2.nii.gz /projects/kuhl_lab/wanjiag/GLACIER/derivatives/glm/sub-GLACIER03/bucket_files/sub-GLACIER03_task-glacier_run-1_space-T1w_trial-gazebo10_fitted_volume_bucket.nii.gz[4]\n",
      "++ 3dTcat: AFNI version=AFNI_24.0.17 (Mar 24 2024) [64-bit]\n",
      "++ elapsed time = 0.3 s\n",
      "\n"
     ]
    },
    {
     "data": {
      "text/plain": [
       "['/projects/kuhl_lab/wanjiag/GLACIER/derivatives/glm/sub-GLACIER03/bucket_files/sub-GLACIER03_task-glacier_run-1_space-T1w_trial-gazebo10_single-vol_target-tstat.nii.gz',\n",
       " '/projects/kuhl_lab/wanjiag/GLACIER/derivatives/glm/sub-GLACIER03/bucket_files/sub-GLACIER03_task-glacier_run-1_space-T1w_trial-gazebo10_single-vol_target-R2.nii.gz']"
      ]
     },
     "execution_count": 54,
     "metadata": {},
     "output_type": "execute_result"
    }
   ],
   "source": [
    "extract_sub_bucket_3dTcat(\n",
    "    input_bucket_file = bucket_file,\n",
    "    out_dir = Path(bucket_dir),\n",
    "    prefix = trial_prefix,\n",
    ")"
   ]
  },
  {
   "cell_type": "code",
   "execution_count": 49,
   "metadata": {},
   "outputs": [
    {
     "name": "stdout",
     "output_type": "stream",
     "text": [
      "++ 3dTcat: AFNI version=AFNI_24.0.17 (Mar 24 2024) [64-bit]\n",
      "\u001b[7m** ERROR:\u001b[0m output dataset name 'xmat_filessub-GLACIER03_task-glacier_run-1_space-T1w_trial-gazebo10_single-vol_target-tstat.nii.gz' conflicts with existing file\n",
      "\u001b[7m** ERROR:\u001b[0m dataset NOT written to disk!\n",
      "++ elapsed time = 0.3 s\n"
     ]
    }
   ],
   "source": [
    "!/home/wanjiag/abin/3dTcat -prefix /projects/kuhl_lab/wanjiag/GLACIER/derivatives/glm/sub-GLACIER03/xmat_filessub-GLACIER03_task-glacier_run-1_space-T1w_trial-gazebo10_single-vol_target-tstat.nii.gz /projects/kuhl_lab/wanjiag/GLACIER/derivatives/glm/sub-GLACIER03/bucket_files/sub-GLACIER03_task-glacier_run-1_space-T1w_trial-gazebo10_fitted_volume_bucket.nii.gz[3]"
   ]
  },
  {
   "cell_type": "code",
   "execution_count": null,
   "metadata": {},
   "outputs": [],
   "source": []
  },
  {
   "cell_type": "code",
   "execution_count": null,
   "metadata": {},
   "outputs": [],
   "source": [
    "3dTcat -prefix ./sub-GLACIER02_task-glacier_run-1_space-T1w_trial-gazebo7_fitted_target-tstats.nii.gz sub-GLACIER02_task-glacier_run-1_space-T1w_trial-gazebo7_fitted_volume_bucket.nii.gz[3]"
   ]
  },
  {
   "cell_type": "code",
   "execution_count": null,
   "metadata": {},
   "outputs": [],
   "source": [
    "3dTcat -prefix ./sub-GLACIER02_task-glacier_run-1_space-T1w_trial-gazebo7_fitted_targetr2.nii.gz sub-GLACIER02_task-glacier_run-1_space-T1w_trial-gazebo7_fitted_volume_bucket.nii.gz[4]"
   ]
  },
  {
   "cell_type": "code",
   "execution_count": 43,
   "metadata": {},
   "outputs": [
    {
     "name": "stdout",
     "output_type": "stream",
     "text": [
      "Full_R^2|Full_Fstat|Target#0_Coef|Target#0_Tstat|Target_R^2|Other#0_Coef|Other#0_Tstat|Other_R^2\n"
     ]
    }
   ],
   "source": [
    "!/home/wanjiag/abin/3dinfo -label /projects/kuhl_lab/wanjiag/GLACIER/derivatives/glm/sub-GLACIER02/bucket_files/sub-GLACIER02_task-glacier_run-1_space-T1w_trial-gazebo7_fitted_volume_bucket.nii.gz"
   ]
  },
  {
   "cell_type": "code",
   "execution_count": 44,
   "metadata": {},
   "outputs": [
    {
     "name": "stdout",
     "output_type": "stream",
     "text": [
      "Full_R^2|Full_Fstat|Target#0_Coef|Target#0_Tstat|Target_R^2|Other#0_Coef|Other#0_Tstat|Other_R^2\n"
     ]
    }
   ],
   "source": [
    "!/home/wanjiag/abin/3dinfo -label /projects/kuhl_lab/wanjiag/GLACIER/derivatives/glm/sub-GLACIER03/bucket_files/sub-GLACIER03_task-glacier_run-1_space-T1w_trial-gazebo10_fitted_volume_bucket.nii.gz"
   ]
  },
  {
   "cell_type": "code",
   "execution_count": 4,
   "metadata": {},
   "outputs": [
    {
     "name": "stdout",
     "output_type": "stream",
     "text": [
      "Version: 1.5.0\n",
      "Commit Date: 2021-02-16 13:46:47 -0600\n",
      "Operating System: Linux\n",
      "\n",
      "Information options:\n",
      "   -help                       show this help info\n",
      "   -arguments-help             explain the format of subcommand help info\n",
      "   -global-options             display options that can be added to any command\n",
      "   -parallel-help              details on how wb_command uses parallelization\n",
      "   -cifti-help                 explain the cifti file format and related terms\n",
      "   -gifti-help                 explain the gifti file format (metric, surface)\n",
      "   -volume-help                explain volume files, including label volumes\n",
      "   -version                    show extended version information\n",
      "   -list-commands              list all processing subcommands\n",
      "   -list-deprecated-commands   list deprecated subcommands\n",
      "   -all-commands-help          show all processing subcommands and their help\n",
      "                                  info - VERY LONG\n",
      "\n",
      "To get the help information of a processing subcommand, run it without any\n",
      "   additional arguments.\n",
      "\n",
      "If the first argument is not recognized, all processing commands that start\n",
      "   with the argument are displayed.\n",
      "\n"
     ]
    }
   ],
   "source": [
    "!/gpfs/projects/kuhl_lab/wanjiag/packages/workbench/bin_linux64/wb_command"
   ]
  },
  {
   "cell_type": "code",
   "execution_count": null,
   "metadata": {},
   "outputs": [],
   "source": []
  },
  {
   "cell_type": "code",
   "execution_count": null,
   "metadata": {},
   "outputs": [],
   "source": []
  },
  {
   "cell_type": "code",
   "execution_count": null,
   "metadata": {},
   "outputs": [],
   "source": []
  },
  {
   "cell_type": "code",
   "execution_count": 44,
   "metadata": {},
   "outputs": [],
   "source": []
  },
  {
   "cell_type": "code",
   "execution_count": 48,
   "metadata": {},
   "outputs": [],
   "source": []
  },
  {
   "cell_type": "code",
   "execution_count": 39,
   "metadata": {},
   "outputs": [
    {
     "name": "stdout",
     "output_type": "stream",
     "text": [
      "/home/wanjiag/projects/environments/glacier_env/bin:/packages/miniconda-t2/20230523/condabin:/packages/miniconda-t2/20230523/bin:/gpfs/t2/slurm/apps/current/sbin:/gpfs/t2/slurm/apps/current/bin:/packages/miniconda-t2/20230523/condabin:/var/www/ood/apps/sys/dashboard/tmp/node_modules/yarn/bin:/opt/ood/ondemand/root/usr/share/gems/3.1/bin:/opt/ood/ondemand/root/usr/bin:/opt/ood/ondemand/root/usr/sbin:/sbin:/bin:/usr/sbin:/usr/bin\n"
     ]
    }
   ],
   "source": []
  },
  {
   "cell_type": "code",
   "execution_count": null,
   "metadata": {},
   "outputs": [],
   "source": []
  }
 ],
 "metadata": {
  "kernelspec": {
   "display_name": "Python 3 (ipykernel)",
   "language": "python",
   "name": "python3"
  },
  "language_info": {
   "codemirror_mode": {
    "name": "ipython",
    "version": 3
   },
   "file_extension": ".py",
   "mimetype": "text/x-python",
   "name": "python",
   "nbconvert_exporter": "python",
   "pygments_lexer": "ipython3",
   "version": "3.10.14"
  }
 },
 "nbformat": 4,
 "nbformat_minor": 4
}
