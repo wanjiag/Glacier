{
 "cells": [
  {
   "cell_type": "code",
   "execution_count": 1,
   "id": "6a0e0db0-0262-4c3d-a8ce-045c88cdcc56",
   "metadata": {},
   "outputs": [],
   "source": [
    "import pandas as pd\n",
    "import numpy as np\n",
    "from glob import glob\n",
    "import os\n",
    "from os.path import join as opj"
   ]
  },
  {
   "cell_type": "code",
   "execution_count": 2,
   "id": "88dae701-0065-4cd4-819f-ccfeda707e6a",
   "metadata": {},
   "outputs": [],
   "source": [
    "csv_dir = \"/home/wanjiag/projects/GLACIER/derivatives/csv/\"\n",
    "all_subs = os.listdir(csv_dir)"
   ]
  },
  {
   "cell_type": "code",
   "execution_count": 3,
   "id": "8e17aec5-0449-403d-98c6-4c15109f1b7f",
   "metadata": {},
   "outputs": [],
   "source": [
    "all_subs.sort()"
   ]
  },
  {
   "cell_type": "code",
   "execution_count": 4,
   "id": "20734efa-af51-44a2-b434-885eb48fc02e",
   "metadata": {},
   "outputs": [],
   "source": [
    "evc_list = []\n",
    "ppa_list = []\n",
    "\n",
    "for sub in all_subs:\n",
    "    evc_list.append(glob(opj(csv_dir, sub, '*evc*'))[0])\n",
    "    ppa_list.append(glob(opj(csv_dir, sub, '*ppa*'))[0])"
   ]
  },
  {
   "cell_type": "code",
   "execution_count": 5,
   "id": "8b43f42c-e4ad-4b89-86a4-0449259ff885",
   "metadata": {},
   "outputs": [],
   "source": [
    "def group_cor(roi_file_list):\n",
    "    \n",
    "    roi_corr_df = pd.DataFrame()\n",
    "\n",
    "    for roi_file in roi_file_list:\n",
    "        sub_df = pd.read_csv(roi_file, index_col = 0)\n",
    "\n",
    "        sub_df['run_id'] = sub_df['run'].str.extract('(\\d+)').astype(int)\n",
    "        sub_df['odd_even'] = np.where(sub_df['run_id']%2==0, 0, 1)\n",
    "        sub_df = sub_df.drop(columns=['run', 'run_id'])\n",
    "\n",
    "        grouped_sub_df = sub_df.groupby(['sub', 'roi', 'trial', 'odd_even']).mean()\n",
    "        grouped_sub_df.reset_index(inplace=True)\n",
    "\n",
    "        odd_df = grouped_sub_df[grouped_sub_df['odd_even'] == 1].reset_index(drop=True)\n",
    "        even_df = grouped_sub_df[grouped_sub_df['odd_even'] == 0].reset_index(drop=True)\n",
    "\n",
    "        corr_df = sub_corr(odd_df, even_df)\n",
    "        roi_corr_df = pd.concat([roi_corr_df, corr_df], ignore_index=True)\n",
    "    \n",
    "    return roi_corr_df"
   ]
  },
  {
   "cell_type": "code",
   "execution_count": 6,
   "id": "44bb6a0a-79f6-4e48-9154-283fb23ecff1",
   "metadata": {},
   "outputs": [],
   "source": [
    "def sub_corr(odd_df, even_df):\n",
    "    \n",
    "    even_numeric_df = even_df.copy()\n",
    "    even_numeric_df.columns = pd.to_numeric(even_numeric_df.columns, errors = 'coerce')\n",
    "    even_numeric_df = even_numeric_df[even_numeric_df.columns.dropna()]\n",
    "    even_numeric_df.columns = even_numeric_df.columns.astype(int)\n",
    "    even_nonnumeric_df = even_df.iloc[:,:3]\n",
    "    \n",
    "    corr_df = pd.DataFrame()\n",
    "\n",
    "    for odd in range(odd_df.shape[0]):\n",
    "        curr_trial = even_nonnumeric_df.copy()\n",
    "        curr_trial['trial2'] = odd_df.loc[odd,]['trial']\n",
    "\n",
    "        numeric = odd_df.loc[odd,][4:]\n",
    "        numeric.index = numeric.index.astype(int)\n",
    "\n",
    "        curr_trial['corr'] = even_numeric_df.corrwith(numeric.astype(float), axis = 1)\n",
    "        corr_df = pd.concat([corr_df, curr_trial], ignore_index=True)\n",
    "    return corr_df"
   ]
  },
  {
   "cell_type": "code",
   "execution_count": 50,
   "id": "67a571c6-0940-4357-af18-3e8936990cbe",
   "metadata": {},
   "outputs": [],
   "source": [
    "def corr_df_cleaning(corr_df):\n",
    "    corr_df['trial1_id'] = corr_df['trial'].str.extract('(\\d+)')\n",
    "    corr_df['trial2_id'] = corr_df['trial2'].str.extract('(\\d+)')\n",
    "    \n",
    "    corr_df['trial1_name'] = corr_df['trial'].str.replace('\\d+', '', regex=True) \n",
    "    corr_df['trial2_name'] = corr_df['trial2'].str.replace('\\d+', '', regex=True) \n",
    "    \n",
    "    corr_df = corr_df.drop(columns = ['trial', 'trial2'])\n",
    "    \n",
    "    def category(row):\n",
    "        \n",
    "        if (row['trial1_name'] == row['trial2_name']):\n",
    "            if (row['trial1_id'] == row['trial2_id']):\n",
    "                return \"within_item\"\n",
    "            else:\n",
    "                return \"within_group\"\n",
    "        else:\n",
    "            return \"across_group\"\n",
    "\n",
    "    corr_df.loc[:, 'category'] = corr_df.apply(category, axis = 1)\n",
    "    \n",
    "    return corr_df\n",
    "\n",
    "def calculate_difference(avg_df):\n",
    "    avg_df_wide = avg_df.pivot(index = 'sub', columns=['category'], values='corr')\n",
    "    avg_df_wide['within_group-across_group'] = avg_df_wide['within_group']-avg_df_wide['across_group']\n",
    "    avg_df_wide['within_item-across_group'] = avg_df_wide['within_item']-avg_df_wide['across_group']\n",
    "    \n",
    "    avg_df_wide = avg_df_wide.drop(columns = ['across_group', 'within_group', 'within_item']).reset_index()\n",
    "    \n",
    "    diff_df = pd.melt(avg_df_wide, id_vars=['sub'], value_vars=['within_group-across_group', 'within_item-across_group'],\n",
    "                      var_name='category', value_name='corr')\n",
    "    \n",
    "    return diff_df"
   ]
  },
  {
   "cell_type": "code",
   "execution_count": 8,
   "id": "31d30b06-c8c3-4bc7-85a3-86f3b5bdc466",
   "metadata": {},
   "outputs": [],
   "source": [
    "evc_corr_df = group_cor(evc_list)\n",
    "ppa_corr_df = group_cor(ppa_list)"
   ]
  },
  {
   "cell_type": "code",
   "execution_count": 9,
   "id": "1a5ddeb7-0eaa-4281-a1ce-70e012c44c71",
   "metadata": {},
   "outputs": [],
   "source": [
    "evc_clean_corr_df = corr_df_cleaning(evc_corr_df)\n",
    "ppa_clean_corr_df = corr_df_cleaning(ppa_corr_df)"
   ]
  },
  {
   "cell_type": "code",
   "execution_count": 11,
   "id": "a82fe66f-e9ff-4cb0-aed4-880619b5a7a7",
   "metadata": {},
   "outputs": [],
   "source": [
    "evc_avg_df = evc_clean_corr_df.groupby(['sub', 'roi', 'category'])['corr'].mean().reset_index()\n",
    "ppa_avg_df = ppa_clean_corr_df.groupby(['sub', 'roi', 'category'])['corr'].mean().reset_index()"
   ]
  },
  {
   "cell_type": "code",
   "execution_count": 51,
   "id": "82f877d1-f510-4bd6-8399-efe4822f39c9",
   "metadata": {
    "tags": []
   },
   "outputs": [],
   "source": [
    "evc_diff_df = calculate_difference(evc_avg_df)\n",
    "ppa_diff_df = calculate_difference(ppa_avg_df)"
   ]
  },
  {
   "cell_type": "code",
   "execution_count": 58,
   "id": "b47a5595-adda-4e86-b3a3-fe57b95739aa",
   "metadata": {
    "tags": []
   },
   "outputs": [
    {
     "data": {
      "text/html": [
       "<div>\n",
       "<style scoped>\n",
       "    .dataframe tbody tr th:only-of-type {\n",
       "        vertical-align: middle;\n",
       "    }\n",
       "\n",
       "    .dataframe tbody tr th {\n",
       "        vertical-align: top;\n",
       "    }\n",
       "\n",
       "    .dataframe thead th {\n",
       "        text-align: right;\n",
       "    }\n",
       "</style>\n",
       "<table border=\"1\" class=\"dataframe\">\n",
       "  <thead>\n",
       "    <tr style=\"text-align: right;\">\n",
       "      <th></th>\n",
       "      <th>sub</th>\n",
       "      <th>category</th>\n",
       "      <th>corr</th>\n",
       "    </tr>\n",
       "  </thead>\n",
       "  <tbody>\n",
       "    <tr>\n",
       "      <th>0</th>\n",
       "      <td>sub-GLACIER01</td>\n",
       "      <td>within_group-across_group</td>\n",
       "      <td>0.005650</td>\n",
       "    </tr>\n",
       "    <tr>\n",
       "      <th>1</th>\n",
       "      <td>sub-GLACIER02</td>\n",
       "      <td>within_group-across_group</td>\n",
       "      <td>0.004581</td>\n",
       "    </tr>\n",
       "    <tr>\n",
       "      <th>2</th>\n",
       "      <td>sub-GLACIER03</td>\n",
       "      <td>within_group-across_group</td>\n",
       "      <td>0.005004</td>\n",
       "    </tr>\n",
       "    <tr>\n",
       "      <th>3</th>\n",
       "      <td>sub-GLACIER04</td>\n",
       "      <td>within_group-across_group</td>\n",
       "      <td>0.002696</td>\n",
       "    </tr>\n",
       "    <tr>\n",
       "      <th>4</th>\n",
       "      <td>sub-GLACIER06</td>\n",
       "      <td>within_group-across_group</td>\n",
       "      <td>-0.000486</td>\n",
       "    </tr>\n",
       "    <tr>\n",
       "      <th>5</th>\n",
       "      <td>sub-GLACIER07</td>\n",
       "      <td>within_group-across_group</td>\n",
       "      <td>0.004306</td>\n",
       "    </tr>\n",
       "    <tr>\n",
       "      <th>6</th>\n",
       "      <td>sub-GLACIER08</td>\n",
       "      <td>within_group-across_group</td>\n",
       "      <td>0.009985</td>\n",
       "    </tr>\n",
       "    <tr>\n",
       "      <th>7</th>\n",
       "      <td>sub-GLACIER01</td>\n",
       "      <td>within_item-across_group</td>\n",
       "      <td>-0.000953</td>\n",
       "    </tr>\n",
       "    <tr>\n",
       "      <th>8</th>\n",
       "      <td>sub-GLACIER02</td>\n",
       "      <td>within_item-across_group</td>\n",
       "      <td>0.009765</td>\n",
       "    </tr>\n",
       "    <tr>\n",
       "      <th>9</th>\n",
       "      <td>sub-GLACIER03</td>\n",
       "      <td>within_item-across_group</td>\n",
       "      <td>0.008655</td>\n",
       "    </tr>\n",
       "    <tr>\n",
       "      <th>10</th>\n",
       "      <td>sub-GLACIER04</td>\n",
       "      <td>within_item-across_group</td>\n",
       "      <td>-0.001565</td>\n",
       "    </tr>\n",
       "    <tr>\n",
       "      <th>11</th>\n",
       "      <td>sub-GLACIER06</td>\n",
       "      <td>within_item-across_group</td>\n",
       "      <td>0.006406</td>\n",
       "    </tr>\n",
       "    <tr>\n",
       "      <th>12</th>\n",
       "      <td>sub-GLACIER07</td>\n",
       "      <td>within_item-across_group</td>\n",
       "      <td>0.002812</td>\n",
       "    </tr>\n",
       "    <tr>\n",
       "      <th>13</th>\n",
       "      <td>sub-GLACIER08</td>\n",
       "      <td>within_item-across_group</td>\n",
       "      <td>0.008601</td>\n",
       "    </tr>\n",
       "  </tbody>\n",
       "</table>\n",
       "</div>"
      ],
      "text/plain": [
       "              sub                   category      corr\n",
       "0   sub-GLACIER01  within_group-across_group  0.005650\n",
       "1   sub-GLACIER02  within_group-across_group  0.004581\n",
       "2   sub-GLACIER03  within_group-across_group  0.005004\n",
       "3   sub-GLACIER04  within_group-across_group  0.002696\n",
       "4   sub-GLACIER06  within_group-across_group -0.000486\n",
       "5   sub-GLACIER07  within_group-across_group  0.004306\n",
       "6   sub-GLACIER08  within_group-across_group  0.009985\n",
       "7   sub-GLACIER01   within_item-across_group -0.000953\n",
       "8   sub-GLACIER02   within_item-across_group  0.009765\n",
       "9   sub-GLACIER03   within_item-across_group  0.008655\n",
       "10  sub-GLACIER04   within_item-across_group -0.001565\n",
       "11  sub-GLACIER06   within_item-across_group  0.006406\n",
       "12  sub-GLACIER07   within_item-across_group  0.002812\n",
       "13  sub-GLACIER08   within_item-across_group  0.008601"
      ]
     },
     "execution_count": 58,
     "metadata": {},
     "output_type": "execute_result"
    }
   ],
   "source": [
    "ppa_diff_df"
   ]
  },
  {
   "cell_type": "code",
   "execution_count": 53,
   "id": "b0045bc3-552d-48a0-8a3c-3649a8ca6fdc",
   "metadata": {},
   "outputs": [],
   "source": [
    "import seaborn as sns"
   ]
  },
  {
   "cell_type": "code",
   "execution_count": 54,
   "id": "021b8db9-1a0e-494f-9906-1da214bbc3a8",
   "metadata": {},
   "outputs": [
    {
     "data": {
      "text/plain": [
       "Text(0.5, 1.0, 'evc')"
      ]
     },
     "execution_count": 54,
     "metadata": {},
     "output_type": "execute_result"
    },
    {
     "data": {
      "image/png": "[encoded data removed]",
      "text/plain": [
       "<Figure size 640x480 with 1 Axes>"
      ]
     },
     "metadata": {},
     "output_type": "display_data"
    }
   ],
   "source": [
    "sns.barplot(evc_diff_df, x = 'category', y = 'corr', errorbar='se').set_title(evc_avg_df['roi'][0].split('-')[0])"
   ]
  },
  {
   "cell_type": "code",
   "execution_count": 55,
   "id": "dd686880-87d9-48e6-a14f-15c529ee4669",
   "metadata": {},
   "outputs": [
    {
     "data": {
      "text/plain": [
       "Text(0.5, 1.0, 'ppa')"
      ]
     },
     "execution_count": 55,
     "metadata": {},
     "output_type": "execute_result"
    },
    {
     "data": {
      "image/png": "[encoded data removed]",
      "text/plain": [
       "<Figure size 640x480 with 1 Axes>"
      ]
     },
     "metadata": {},
     "output_type": "display_data"
    }
   ],
   "source": [
    "sns.barplot(ppa_diff_df, x = 'category', y = 'corr', errorbar='se').set_title(ppa_avg_df['roi'][0].split('_')[0])"
   ]
  },
  {
   "cell_type": "code",
   "execution_count": null,
   "id": "7295d12c-2c42-4e60-ab07-0435d96cccfe",
   "metadata": {},
   "outputs": [],
   "source": []
  }
 ],
 "metadata": {
  "kernelspec": {
   "display_name": "Python 3 (ipykernel)",
   "language": "python",
   "name": "python3"
  },
  "language_info": {
   "codemirror_mode": {
    "name": "ipython",
    "version": 3
   },
   "file_extension": ".py",
   "mimetype": "text/x-python",
   "name": "python",
   "nbconvert_exporter": "python",
   "pygments_lexer": "ipython3",
   "version": "3.10.14"
  }
 },
 "nbformat": 4,
 "nbformat_minor": 5
}
