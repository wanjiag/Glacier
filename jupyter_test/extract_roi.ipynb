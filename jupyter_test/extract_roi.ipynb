{
 "cells": [
  {
   "cell_type": "code",
   "execution_count": 102,
   "id": "24903d9a-0084-4339-a792-bb818267a2d4",
   "metadata": {},
   "outputs": [
    {
     "name": "stderr",
     "output_type": "stream",
     "text": [
      "/home/wanjiag/projects/environments/glacier_env/lib/python3.10/site-packages/scipy/__init__.py:146: UserWarning: A NumPy version >=1.17.3 and <1.25.0 is required for this version of SciPy (detected version 1.26.4\n",
      "  warnings.warn(f\"A NumPy version >={np_minversion} and <{np_maxversion}\"\n"
     ]
    }
   ],
   "source": [
    "from glob import glob\n",
    "import os \n",
    "from os.path import join as opj\n",
    "import subprocess\n",
    "from nipype.interfaces.ants import ApplyTransforms"
   ]
  },
  {
   "cell_type": "code",
   "execution_count": 126,
   "id": "b5fb3e0d-4db8-4046-a55c-9de8e9349fcb",
   "metadata": {},
   "outputs": [],
   "source": [
    "epi_mask_threshold = 0.5"
   ]
  },
  {
   "cell_type": "code",
   "execution_count": 92,
   "id": "0388e496-d750-49c2-b221-801350fdbdfb",
   "metadata": {},
   "outputs": [],
   "source": [
    "def sh(script):\n",
    "    os.system(\"bash -c '%s'\" % script)"
   ]
  },
  {
   "cell_type": "code",
   "execution_count": 26,
   "id": "7939806e-d96c-49ed-a819-76af2e96be46",
   "metadata": {},
   "outputs": [
    {
     "name": "stdout",
     "output_type": "stream",
     "text": [
      "['sub-GLACIER02', 'sub-GLACIER03', 'sub-GLACIER04', 'sub-GLACIER06', 'sub-GLACIER07', 'sub-GLACIER08']\n"
     ]
    }
   ],
   "source": [
    "######## Running ########\n",
    "\n",
    "derivative_dir = '/projects/kuhl_lab/wanjiag/GLACIER/derivatives/'\n",
    "glm_base_dir = opj(derivative_dir, 'glm/')\n",
    "fmriprep_base_dir = opj(derivative_dir, 'fmriprep/')\n",
    "roi_base_dir = opj(derivative_dir, 'roi/')\n",
    "automatic_detecting_subjects = True\n",
    "\n",
    "if automatic_detecting_subjects:\n",
    "    f_list = glob(os.path.join(glm_base_dir, '*sub-GLACIER*/'))\n",
    "    subs = list(map(lambda f: f[len(os.path.commonpath(f_list))+1:-1], f_list))\n",
    "    subs.sort()\n",
    "    \n",
    "    processed_list = glob(os.path.join(roi_base_dir, '*sub-GLACIER*/'))\n",
    "    if len(processed_list) == 0:\n",
    "        todo_subs = subs\n",
    "    else:\n",
    "        processed_subs = [x.split('/')[-2] for x in processed_list]\n",
    "        todo_subs = [x for x in subs if x not in processed_subs]\n",
    "    \n",
    "    print(todo_subs)"
   ]
  },
  {
   "cell_type": "code",
   "execution_count": 28,
   "id": "470212c0-3ae0-4a1a-932b-471b0986fcd1",
   "metadata": {},
   "outputs": [],
   "source": [
    "sub = todo_subs[0]"
   ]
  },
  {
   "cell_type": "code",
   "execution_count": 29,
   "id": "061a09ea-6563-4bb7-8ffe-b7d83a7e917c",
   "metadata": {},
   "outputs": [
    {
     "data": {
      "text/plain": [
       "'sub-GLACIER02'"
      ]
     },
     "execution_count": 29,
     "metadata": {},
     "output_type": "execute_result"
    }
   ],
   "source": [
    "sub"
   ]
  },
  {
   "cell_type": "code",
   "execution_count": 30,
   "id": "ae5c15bb-9298-4073-9480-09622e4ea822",
   "metadata": {},
   "outputs": [],
   "source": [
    "output_dir = opj(roi_base_dir, sub)\n",
    "\n",
    "if not os.path.isdir(output_dir):\n",
    "    os.makedirs(output_dir)\n",
    "    \n",
    "fmriprep_dir = opj(fmriprep_base_dir, sub)\n",
    "glm_dir = opj(glm_base_dir, sub)"
   ]
  },
  {
   "cell_type": "code",
   "execution_count": 32,
   "id": "378e75c2-2cdf-4c0c-96c7-3029868d9b5e",
   "metadata": {},
   "outputs": [
    {
     "name": "stdout",
     "output_type": "stream",
     "text": [
      "--------------------sub-GLACIER02-------------------\n",
      "/projects/kuhl_lab/wanjiag/GLACIER/derivatives/roi/sub-GLACIER02\n"
     ]
    }
   ],
   "source": [
    "print(f'--------------------{sub}-------------------')\n",
    "print(output_dir)"
   ]
  },
  {
   "cell_type": "code",
   "execution_count": 98,
   "id": "b8423fe3-2da2-4d7f-a82d-a7fc64060d25",
   "metadata": {},
   "outputs": [],
   "source": [
    "# Getting brain mask & fmriprep functional file\n",
    "brain_mask = opj(glm_dir, 'temporary_files', f'{sub}_space-T1w_desc-brain_intersect_mask.nii.gz')\n",
    "func_file_list = [x for x in glob(opj(fmriprep_dir, 'func', f'{sub}_task-glacier_run-*_space-T1w_desc-preproc_bold.nii.gz'))] \n",
    "func_file_list.sort()\n",
    "if len(func_file_list) != 8:\n",
    "    print(f'--------------------Some thing is wrong with {sub}-------------------')\n",
    "\n",
    "h5 = opj(fmriprep_dir, f'anat/{sub}_from-MNI152NLin2009cAsym_to-T1w_mode-image_xfm.h5')"
   ]
  },
  {
   "cell_type": "code",
   "execution_count": 107,
   "id": "68e26dbf-4158-4574-96c0-73c3836aa920",
   "metadata": {},
   "outputs": [],
   "source": [
    "from typing import Union\n",
    "from shlex import split\n",
    "import sys\n",
    "\n",
    "def run_cmd(\n",
    "    cmd: Union[str, list[str]],\n",
    "    print_output: bool = True,\n",
    "    shell: bool = False,\n",
    "    check: bool = True,\n",
    "    **kwargs,\n",
    ") -> subprocess.CompletedProcess:\n",
    "    \"\"\"Executes command in Shell.\n",
    "\n",
    "    Args:\n",
    "        cmd: Command to be executed in external shell. It could be a\n",
    "            string or a list of command parts (see subprocess function\n",
    "            'run' for details).\n",
    "        print_output: If true, print out the shell outputs.\n",
    "        shell: If true, the command will be executed through the shell\n",
    "            (see subprocess doc for details).\n",
    "        check: If check is true, and the process exits with a non-zero\n",
    "            exit code, a CalledProcessError exception will be raised.\n",
    "            Attributes of that exception hold the arguments, the exit\n",
    "            code, and stdout and stderr if they were captured.\n",
    "        **kwargs: Additional keyword arguments pass to function 'run'.\n",
    "\n",
    "    Returns:\n",
    "        A subprocess.CompletedProcess object.\n",
    "    \"\"\"\n",
    "\n",
    "    try:\n",
    "        if shell:\n",
    "            if isinstance(cmd, list):\n",
    "                cmd = \" \".join(cmd)\n",
    "            res = subprocess.run(\n",
    "                cmd, shell=True, capture_output=True, check=check, encoding=\"utf-8\", **kwargs\n",
    "            )\n",
    "        else:\n",
    "            if isinstance(cmd, str):\n",
    "                cmd = split(cmd)\n",
    "            res = subprocess.run(cmd, capture_output=True, check=check, encoding=\"utf-8\", **kwargs)\n",
    "        if print_output:\n",
    "            if res.stdout != \"\":\n",
    "                print(res.stdout.rstrip(\"\\n\"), flush=True)\n",
    "            if res.stderr != \"\":\n",
    "                print(res.stderr, flush=True)\n",
    "    except subprocess.CalledProcessError as e:\n",
    "        print(e.stdout)\n",
    "        print(e.stderr)\n",
    "        sys.exit(1)\n",
    "    return res"
   ]
  },
  {
   "cell_type": "code",
   "execution_count": 57,
   "id": "36c91f89-efb2-48b6-8f9a-3596fc19a3c1",
   "metadata": {},
   "outputs": [
    {
     "name": "stdout",
     "output_type": "stream",
     "text": [
      "/projects/kuhl_lab/wanjiag/GLACIER/derivatives/fmriprep/sourcedata/freesurfer/sub-GLACIER02/mri/aparc.a2009s+aseg.mgz\n",
      "/projects/kuhl_lab/wanjiag/GLACIER/derivatives/roi/sub-GLACIER02/sub-GLACIER02_aparc.a2009s+aseg.nii.gz\n",
      "mri_convert /projects/kuhl_lab/wanjiag/GLACIER/derivatives/fmriprep/sourcedata/freesurfer/sub-GLACIER02/mri/aparc.a2009s+aseg.mgz /projects/kuhl_lab/wanjiag/GLACIER/derivatives/roi/sub-GLACIER02/sub-GLACIER02_aparc.a2009s+aseg.nii.gz \n",
      "reading from /projects/kuhl_lab/wanjiag/GLACIER/derivatives/fmriprep/sourcedata/freesurfer/sub-GLACIER02/mri/aparc.a2009s+aseg.mgz...\n",
      "TR=0.00, TE=0.00, TI=0.00, flip angle=0.00\n",
      "i_ras = (-1, -1.01863e-09, 0)\n",
      "j_ras = (0, -5.82077e-11, -1)\n",
      "k_ras = (1.01863e-09, 1, 5.82077e-11)\n",
      "writing to /projects/kuhl_lab/wanjiag/GLACIER/derivatives/roi/sub-GLACIER02/sub-GLACIER02_aparc.a2009s+aseg.nii.gz...\n"
     ]
    },
    {
     "data": {
      "text/plain": [
       "CompletedProcess(args=['mri_convert', '/projects/kuhl_lab/wanjiag/GLACIER/derivatives/fmriprep/sourcedata/freesurfer/sub-GLACIER02/mri/aparc.a2009s+aseg.mgz', '/projects/kuhl_lab/wanjiag/GLACIER/derivatives/roi/sub-GLACIER02/sub-GLACIER02_aparc.a2009s+aseg.nii.gz'], returncode=0, stdout='mri_convert /projects/kuhl_lab/wanjiag/GLACIER/derivatives/fmriprep/sourcedata/freesurfer/sub-GLACIER02/mri/aparc.a2009s+aseg.mgz /projects/kuhl_lab/wanjiag/GLACIER/derivatives/roi/sub-GLACIER02/sub-GLACIER02_aparc.a2009s+aseg.nii.gz \\nreading from /projects/kuhl_lab/wanjiag/GLACIER/derivatives/fmriprep/sourcedata/freesurfer/sub-GLACIER02/mri/aparc.a2009s+aseg.mgz...\\nTR=0.00, TE=0.00, TI=0.00, flip angle=0.00\\ni_ras = (-1, -1.01863e-09, 0)\\nj_ras = (0, -5.82077e-11, -1)\\nk_ras = (1.01863e-09, 1, 5.82077e-11)\\nwriting to /projects/kuhl_lab/wanjiag/GLACIER/derivatives/roi/sub-GLACIER02/sub-GLACIER02_aparc.a2009s+aseg.nii.gz...\\n', stderr='')"
      ]
     },
     "execution_count": 57,
     "metadata": {},
     "output_type": "execute_result"
    }
   ],
   "source": [
    "# Finding and coverting aparc into nifti file.\n",
    "mgz_file = opj(fmriprep_base_dir, 'sourcedata', 'freesurfer', sub, 'mri', 'aparc.a2009s+aseg.mgz')\n",
    "aparc_2009 = opj(output_dir, f'{sub}_aparc.a2009s+aseg.nii.gz')\n",
    "print(mgz_file)\n",
    "print(aparc_2009)\n",
    "cmd = f'mri_convert {mgz_file} {aparc_2009}'\n",
    "\n",
    "run_cmd(cmd)"
   ]
  },
  {
   "cell_type": "code",
   "execution_count": 58,
   "id": "1cd7b2bd-230d-4b92-a35d-537bda5fdc4f",
   "metadata": {},
   "outputs": [
    {
     "name": "stdout",
     "output_type": "stream",
     "text": [
      "/projects/kuhl_lab/wanjiag/GLACIER/derivatives/fmriprep/sourcedata/freesurfer/sub-GLACIER02/mri/aparc+aseg.mgz\n",
      "/projects/kuhl_lab/wanjiag/GLACIER/derivatives/roi/sub-GLACIER02/sub-GLACIER02_aparc+aseg.nii.gz\n",
      "mri_convert /projects/kuhl_lab/wanjiag/GLACIER/derivatives/fmriprep/sourcedata/freesurfer/sub-GLACIER02/mri/aparc+aseg.mgz /projects/kuhl_lab/wanjiag/GLACIER/derivatives/roi/sub-GLACIER02/sub-GLACIER02_aparc+aseg.nii.gz \n",
      "reading from /projects/kuhl_lab/wanjiag/GLACIER/derivatives/fmriprep/sourcedata/freesurfer/sub-GLACIER02/mri/aparc+aseg.mgz...\n",
      "TR=0.00, TE=0.00, TI=0.00, flip angle=0.00\n",
      "i_ras = (-1, -1.01863e-09, 0)\n",
      "j_ras = (0, -5.82077e-11, -1)\n",
      "k_ras = (1.01863e-09, 1, 5.82077e-11)\n",
      "writing to /projects/kuhl_lab/wanjiag/GLACIER/derivatives/roi/sub-GLACIER02/sub-GLACIER02_aparc+aseg.nii.gz...\n"
     ]
    },
    {
     "data": {
      "text/plain": [
       "CompletedProcess(args=['mri_convert', '/projects/kuhl_lab/wanjiag/GLACIER/derivatives/fmriprep/sourcedata/freesurfer/sub-GLACIER02/mri/aparc+aseg.mgz', '/projects/kuhl_lab/wanjiag/GLACIER/derivatives/roi/sub-GLACIER02/sub-GLACIER02_aparc+aseg.nii.gz'], returncode=0, stdout='mri_convert /projects/kuhl_lab/wanjiag/GLACIER/derivatives/fmriprep/sourcedata/freesurfer/sub-GLACIER02/mri/aparc+aseg.mgz /projects/kuhl_lab/wanjiag/GLACIER/derivatives/roi/sub-GLACIER02/sub-GLACIER02_aparc+aseg.nii.gz \\nreading from /projects/kuhl_lab/wanjiag/GLACIER/derivatives/fmriprep/sourcedata/freesurfer/sub-GLACIER02/mri/aparc+aseg.mgz...\\nTR=0.00, TE=0.00, TI=0.00, flip angle=0.00\\ni_ras = (-1, -1.01863e-09, 0)\\nj_ras = (0, -5.82077e-11, -1)\\nk_ras = (1.01863e-09, 1, 5.82077e-11)\\nwriting to /projects/kuhl_lab/wanjiag/GLACIER/derivatives/roi/sub-GLACIER02/sub-GLACIER02_aparc+aseg.nii.gz...\\n', stderr='')"
      ]
     },
     "execution_count": 58,
     "metadata": {},
     "output_type": "execute_result"
    }
   ],
   "source": [
    "# Finding and copying aparcaseg file into ROIs folder\n",
    "aparc_file = os.path.join(fmriprep_base_dir, 'sourcedata', 'freesurfer', sub, 'mri','aparc+aseg.mgz')\n",
    "aparc = os.path.join(output_dir,  f'{sub}_aparc+aseg.nii.gz')\n",
    "print(aparc_file)\n",
    "print(aparc)\n",
    "cmd = f'mri_convert {aparc_file} {aparc}'\n",
    "run_cmd(cmd)"
   ]
  },
  {
   "cell_type": "code",
   "execution_count": 95,
   "id": "040402ef-ebe6-4ee2-a63d-2aa729e1bd75",
   "metadata": {},
   "outputs": [
    {
     "data": {
      "text/plain": [
       "['/projects/kuhl_lab/wanjiag/GLACIER/derivatives/fmriprep/sub-GLACIER02/func/sub-GLACIER02_task-glacier_run-1_space-T1w_desc-preproc_bold.nii.gz',\n",
       " '/projects/kuhl_lab/wanjiag/GLACIER/derivatives/fmriprep/sub-GLACIER02/func/sub-GLACIER02_task-glacier_run-2_space-T1w_desc-preproc_bold.nii.gz',\n",
       " '/projects/kuhl_lab/wanjiag/GLACIER/derivatives/fmriprep/sub-GLACIER02/func/sub-GLACIER02_task-glacier_run-3_space-T1w_desc-preproc_bold.nii.gz',\n",
       " '/projects/kuhl_lab/wanjiag/GLACIER/derivatives/fmriprep/sub-GLACIER02/func/sub-GLACIER02_task-glacier_run-4_space-T1w_desc-preproc_bold.nii.gz',\n",
       " '/projects/kuhl_lab/wanjiag/GLACIER/derivatives/fmriprep/sub-GLACIER02/func/sub-GLACIER02_task-glacier_run-5_space-T1w_desc-preproc_bold.nii.gz',\n",
       " '/projects/kuhl_lab/wanjiag/GLACIER/derivatives/fmriprep/sub-GLACIER02/func/sub-GLACIER02_task-glacier_run-6_space-T1w_desc-preproc_bold.nii.gz',\n",
       " '/projects/kuhl_lab/wanjiag/GLACIER/derivatives/fmriprep/sub-GLACIER02/func/sub-GLACIER02_task-glacier_run-7_space-T1w_desc-preproc_bold.nii.gz',\n",
       " '/projects/kuhl_lab/wanjiag/GLACIER/derivatives/fmriprep/sub-GLACIER02/func/sub-GLACIER02_task-glacier_run-8_space-T1w_desc-preproc_bold.nii.gz']"
      ]
     },
     "execution_count": 95,
     "metadata": {},
     "output_type": "execute_result"
    }
   ],
   "source": [
    "func_file_list"
   ]
  },
  {
   "cell_type": "code",
   "execution_count": 118,
   "id": "d4085f55-b05c-48b3-b312-37af06315299",
   "metadata": {},
   "outputs": [],
   "source": [
    "# Calculate All runs average as a reference image\n",
    "mean_out_file = opj(output_dir, f'{sub}_space-T1w_desc-preproc_bold_mean_all.nii.gz')\n",
    "if not os.path.exists(mean_out_file): \n",
    "    add_string = ''\n",
    "    mean_func_list = []\n",
    "    for func_file in func_file_list:\n",
    "        # calculate Tmean for each functional file\n",
    "        out_file = opj(output_dir, f'{os.path.basename(func_file).split(\".\")[0]}_mean.nii.gz')\n",
    "        cmd = f'fslmaths {func_file} -Tmean {out_file}'\n",
    "        run_cmd(cmd)\n",
    "        mean_func_list.append(out_file)\n",
    "        \n",
    "    # calculate mean across all functional runs\n",
    "    cmd = f'fslmaths {mean_func_list[0]} '\n",
    "    add_string = ''\n",
    "    for mean_file in mean_func_list[1:]:\n",
    "            add_string += f'-add {mean_file} '\n",
    "    mask_string = f'-mas {brain_mask}'\n",
    "    div_string = f'-div {len(mean_func_list)}'\n",
    "    run_cmd(f'{cmd} {add_string} {div_string} {mask_string} {mean_out_file}')\n",
    "\n",
    "    # Remove temporary files\n",
    "    for mean_func in mean_func_list:\n",
    "        sh(f'rm {mean_func}')"
   ]
  },
  {
   "cell_type": "code",
   "execution_count": 121,
   "id": "e87b8d89-3cde-4267-ae62-f0daf0353cab",
   "metadata": {},
   "outputs": [
    {
     "data": {
      "text/plain": [
       "'antsApplyTransforms --default-value 0 --dimensionality 3 --float 0 --input /home/wanjiag/projects/GLACIER/derivatives/roi/mni/ppa/ppa.nii.gz --interpolation Linear --output /projects/kuhl_lab/wanjiag/GLACIER/derivatives/roi/sub-GLACIER02/ppa_mni_2_t1.nii.gz --reference-image /projects/kuhl_lab/wanjiag/GLACIER/derivatives/roi/sub-GLACIER02/sub-GLACIER02_space-T1w_desc-preproc_bold_mean_all.nii.gz --transform /projects/kuhl_lab/wanjiag/GLACIER/derivatives/fmriprep/sub-GLACIER02/anat/sub-GLACIER02_from-MNI152NLin2009cAsym_to-T1w_mode-image_xfm.h5'"
      ]
     },
     "execution_count": 121,
     "metadata": {},
     "output_type": "execute_result"
    }
   ],
   "source": [
    "at.cmdline"
   ]
  },
  {
   "cell_type": "code",
   "execution_count": 125,
   "id": "2472fa2b-829e-4077-8234-14d4ac47da52",
   "metadata": {},
   "outputs": [],
   "source": [
    "singularity_prefix = 'singularity exec --bind /projects/kuhl_lab/wanjiag/GLACIER/derivatives:/projects/kuhl_lab/wanjiag/GLACIER/derivatives /gpfs/projects/kuhl_lab/shared/fmriprep-v23.2.0.simg'"
   ]
  },
  {
   "cell_type": "code",
   "execution_count": 123,
   "id": "57ad46d4-7a4c-431f-a7d9-65df69e741cf",
   "metadata": {},
   "outputs": [
    {
     "name": "stdout",
     "output_type": "stream",
     "text": [
      "--------------------PPA-------------------\n",
      "singularity exec --bind /projects/kuhl_lab/wanjiag/GLACIER/derivatives:/projects/kuhl_lab/wanjiag/GLACIER/derivatives /gpfs/projects/kuhl_lab/shared/fmriprep-v23.2.0.simg antsApplyTransforms -d 3 -i /home/wanjiag/projects/GLACIER/derivatives/roi/mni/ppa/ppa.nii.gz -r /projects/kuhl_lab/wanjiag/GLACIER/derivatives/roi/sub-GLACIER02/sub-GLACIER02_space-T1w_desc-preproc_bold_mean_all.nii.gz -t /projects/kuhl_lab/wanjiag/GLACIER/derivatives/fmriprep/sub-GLACIER02/anat/sub-GLACIER02_from-MNI152NLin2009cAsym_to-T1w_mode-image_xfm.h5 -f 0 -o /projects/kuhl_lab/wanjiag/GLACIER/derivatives/roi/sub-GLACIER02/ppa_mni_2_t1.nii.gz\n"
     ]
    }
   ],
   "source": [
    "# PPA from MNI space\n",
    "print('--------------------PPA-------------------')\n",
    "ppa_mni = '/home/wanjiag/projects/GLACIER/derivatives/roi/mni/ppa/ppa.nii.gz'\n",
    "ppa_out = opj(output_dir, 'ppa_mni-2-epi.nii.gz')\n",
    "cmd = f'{singularity_prefix} antsApplyTransforms -d 3 -i {ppa_mni} -r {mean_out_file} -t {h5} -f 0 -o {ppa_out}'\n",
    "run_cmd(cmd)"
   ]
  },
  {
   "cell_type": "code",
   "execution_count": 128,
   "id": "b2da91f2-01de-48d0-8d6d-1ed21715c26f",
   "metadata": {},
   "outputs": [],
   "source": [
    "# threshold\n",
    "ppa_final_out = opj(output_dir, 'ppa_mni-2-epi_thr-0.5_masked_bin.nii.gz')\n",
    "cmd = f'fslmaths {ppa_out} -thr {epi_mask_threshold} -mas {brain_mask} -bin {ppa_final_out}'"
   ]
  },
  {
   "cell_type": "code",
   "execution_count": 139,
   "id": "8ac4c4aa-6e33-4f7e-b088-9fd18b57b97b",
   "metadata": {},
   "outputs": [],
   "source": [
    "run_cmd(cmd)\n",
    "sh(f'rm {ppa_out}')"
   ]
  },
  {
   "cell_type": "code",
   "execution_count": 130,
   "id": "088c86a8-e524-4237-9b4e-02943a2c01c4",
   "metadata": {},
   "outputs": [
    {
     "name": "stdout",
     "output_type": "stream",
     "text": [
      "--------------------EVC-------------------\n"
     ]
    }
   ],
   "source": [
    "# EVC from MNI space\n",
    "print('--------------------EVC-------------------')\n",
    "ev_mni_path = '/home/wanjiag/projects/GLACIER/derivatives/roi/mni/visual_cortex/subj_vol_all'\n",
    "ev_files = ['perc_VTPM_vol_roi1_lh.nii.gz',\n",
    "            'perc_VTPM_vol_roi1_rh.nii.gz',\n",
    "            'perc_VTPM_vol_roi2_lh.nii.gz',\n",
    "            'perc_VTPM_vol_roi2_rh.nii.gz']"
   ]
  },
  {
   "cell_type": "code",
   "execution_count": 134,
   "id": "83ea95aa-83fd-47b5-8c3d-4de257a5f98b",
   "metadata": {},
   "outputs": [],
   "source": [
    "ev_file_threshold = 50\n",
    "ev_tmp = []\n",
    "ev_output = []\n",
    "cmdline = []\n",
    "\n",
    "for ev_file in ev_files:\n",
    "    at_out_file = opj(output_dir, '{}-2-epi.nii.gz'.format(ev_file.split('.')[0]))\n",
    "    cmd = f'{singularity_prefix} antsApplyTransforms -d 3 -i {opj(ev_mni_path,ev_file)} -r {mean_out_file} -t {h5} -f 0 -o {at_out_file}'\n",
    "    run_cmd(cmd)\n",
    "    ev_tmp.append(at_out_file)\n",
    "    \n",
    "    trh_out_file = opj(output_dir, '{}-2-epi_thr-{}.nii.gz'.format(ev_file.split('.')[0], ev_file_threshold))\n",
    "    \n",
    "    cmd = f'fslmaths {at_out_file} -thr {ev_file_threshold} -bin {trh_out_file}'\n",
    "    run_cmd(cmd)\n",
    "    \n",
    "    ev_output.append(trh_out_file)"
   ]
  },
  {
   "cell_type": "code",
   "execution_count": 137,
   "id": "b5da7721-3220-47fa-92c8-7a6d2f923846",
   "metadata": {},
   "outputs": [
    {
     "data": {
      "text/plain": [
       "CompletedProcess(args=['fslmaths', '/projects/kuhl_lab/wanjiag/GLACIER/derivatives/roi/sub-GLACIER02/perc_VTPM_vol_roi1_lh-2-epi_thr-50_bin.nii.gz', '-add', '/projects/kuhl_lab/wanjiag/GLACIER/derivatives/roi/sub-GLACIER02/perc_VTPM_vol_roi1_rh-2-epi_thr-50_bin.nii.gz', '-add', '/projects/kuhl_lab/wanjiag/GLACIER/derivatives/roi/sub-GLACIER02/perc_VTPM_vol_roi2_lh-2-epi_thr-50_bin.nii.gz', '-add', '/projects/kuhl_lab/wanjiag/GLACIER/derivatives/roi/sub-GLACIER02/perc_VTPM_vol_roi2_rh-2-epi_thr-50_bin.nii.gz', '-mas', '/projects/kuhl_lab/wanjiag/GLACIER/derivatives/glm/sub-GLACIER02/temporary_files/sub-GLACIER02_space-T1w_desc-brain_intersect_mask.nii.gz', '-bin', '/projects/kuhl_lab/wanjiag/GLACIER/derivatives/roi/sub-GLACIER02/evc-2-epi_thr-50_bin_masked.nii.gz'], returncode=0, stdout='', stderr='')"
      ]
     },
     "execution_count": 137,
     "metadata": {},
     "output_type": "execute_result"
    }
   ],
   "source": [
    "# calculate mean across all functional runs\n",
    "cmd = f'fslmaths {ev_output[0]} '\n",
    "add_string = ''\n",
    "ev_out = opj(output_dir, f'evc-2-epi_thr-{ev_file_threshold}_masked_bin.nii.gz')\n",
    "for ev_file in ev_output[1:]:\n",
    "        add_string += f'-add {ev_file} '\n",
    "mask_string = f'-mas {brain_mask}'\n",
    "run_cmd(f'{cmd} {add_string} {mask_string} -bin {ev_out}')\n"
   ]
  },
  {
   "cell_type": "code",
   "execution_count": 138,
   "id": "450c52d1-5da7-4961-b298-f030c086bfd6",
   "metadata": {},
   "outputs": [],
   "source": [
    "# Remove temporary files\n",
    "for ev_file in ev_output:\n",
    "    sh(f'rm {ev_file}')\n",
    "             \n",
    "for ev_file in ev_tmp:\n",
    "    sh(f'rm {ev_file}')"
   ]
  }
 ],
 "metadata": {
  "kernelspec": {
   "display_name": "Python 3 (ipykernel)",
   "language": "python",
   "name": "python3"
  },
  "language_info": {
   "codemirror_mode": {
    "name": "ipython",
    "version": 3
   },
   "file_extension": ".py",
   "mimetype": "text/x-python",
   "name": "python",
   "nbconvert_exporter": "python",
   "pygments_lexer": "ipython3",
   "version": "3.10.14"
  }
 },
 "nbformat": 4,
 "nbformat_minor": 5
}
